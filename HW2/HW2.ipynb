{
 "cells": [
  {
   "cell_type": "markdown",
   "metadata": {
    "colab_type": "text",
    "id": "6eE9b1yQ6mEZ"
   },
   "source": [
    "## Spring 2020 CX4641/CS7641 Homework 2\n",
    "\n",
    "## Instructor: Dr. Mahdi Roozbahani\n",
    "\n",
    "## Deadline: Feb 25th, Tuesday, 11:59 pm\n",
    "\n",
    "* No unapproved extension of the deadline is allowed. Late submission will lead to 0 credit. \n",
    "\n",
    "* Homework submission ONLY in .ipynb format.\n"
   ]
  },
  {
   "cell_type": "markdown",
   "metadata": {
    "colab_type": "text",
    "id": "KBpPxLCA6tcz"
   },
   "source": [
    "## Instructions for the assignment\n",
    "\n",
    "In this assignment, we only have writing questions: you are asked to answer them in the markdown cells.\n",
    "\n",
    "- The Q4 is bonus for both undergraduate and graduate students.\n",
    "\n",
    "- To switch between cell for code and for markdown, see the menu -> Cell -> Cell Type\n",
    "    \n",
    "- You could directly type the Latex equations in the markdown cell.\n",
    "\n",
    "- Typing with Latex\\markdown is required for all the written questions. Handwritten answers would not be accepted. \n",
    "    \n",
    "- If a question requires a picture, you could use this syntax $\"<img src=\"\" style=\"width: 300px;\"/>\"$ to include them within your ipython notebook."
   ]
  },
  {
   "cell_type": "markdown",
   "metadata": {
    "colab_type": "text",
    "id": "lBMpzE5S68ie"
   },
   "source": [
    "## 0 Set up\n",
    "This notebook is tested under [python 3.6.8](https://www.python.org/downloads/release/python-368/), and the corresponding packages can be downloaded from [miniconda](https://docs.conda.io/en/latest/miniconda.html). You may also want to get yourself familiar with several packages:\n",
    "\n",
    "- [jupyter notebook](https://jupyter-notebook.readthedocs.io/en/stable/)\n",
    "- [numpy](https://docs.scipy.org/doc/numpy-1.15.1/user/quickstart.html)\n",
    "- [matplotlib](https://matplotlib.org/users/pyplot_tutorial.html)\n",
    "\n",
    "Please implement the functions that has \"raise NotImplementedError\", and after you finishing the coding, please delete or comment \"raise NotImplementedError\"."
   ]
  },
  {
   "cell_type": "code",
   "execution_count": 2,
   "metadata": {
    "colab": {
     "base_uri": "https://localhost:8080/",
     "height": 102
    },
    "colab_type": "code",
    "id": "7RIMxa4i7D3G",
    "outputId": "717999b3-9ac4-4e0a-f989-aa8cb0021b1e"
   },
   "outputs": [
    {
     "name": "stdout",
     "output_type": "stream",
     "text": [
      "Version information\n",
      "python: 3.7.4 (default, Aug  9 2019, 18:34:13) [MSC v.1915 64 bit (AMD64)]\n",
      "matplotlib: 3.1.1\n",
      "numpy: 1.16.5\n"
     ]
    }
   ],
   "source": [
    "###############################\n",
    "### DO NOT CHANGE THIS CELL ###\n",
    "###############################\n",
    "\n",
    "from __future__ import absolute_import\n",
    "from __future__ import print_function\n",
    "from __future__ import division\n",
    "\n",
    "%matplotlib inline  \n",
    "\n",
    "import sys\n",
    "import matplotlib\n",
    "import numpy as np\n",
    "import matplotlib.pyplot as plt\n",
    "from mpl_toolkits.mplot3d import axes3d\n",
    "from tqdm import tqdm\n",
    "\n",
    "print('Version information')\n",
    "\n",
    "print('python: {}'.format(sys.version))\n",
    "print('matplotlib: {}'.format(matplotlib.__version__))\n",
    "print('numpy: {}'.format(np.__version__))\n",
    "\n",
    "# Set random seed so output is all same\n",
    "np.random.seed(1)\n",
    "\n",
    "# Load image\n",
    "import imageio\n",
    "url = 'https://images.saatchiart.com/saatchi/4169/art/2434526/1504576-7.jpg'\n",
    "\n",
    "image = imageio.imread(imageio.core.urlopen(url).read())"
   ]
  },
  {
   "cell_type": "markdown",
   "metadata": {
    "colab_type": "text",
    "id": "YnC2Xc4Q6x9a"
   },
   "source": [
    "## 1. KMeans Clustering [5 + 30 + 10 pts]\n",
    "\n",
    "\n",
    "\n",
    "\n",
    "KMeans is trying to solve the following optimization problem:\n",
    "\n",
    "\\begin{align}\n",
    "\\arg \\min_S \\sum_{i=1}^K \\sum_{x_j \\in S_i} ||x_j - \\mu_i||^2\n",
    "\\end{align}\n",
    "where one needs to partition the N observations into K sets: $S = \\{S_1, S_2, \\ldots, S_K\\}$ and each set has $\\mu_i$ as its center.\n",
    "\n",
    "\n"
   ]
  },
  {
   "cell_type": "markdown",
   "metadata": {
    "colab_type": "text",
    "id": "QzOeJgtj7Or-"
   },
   "source": [
    "### 1.1 pairwise distance [5pts]\n",
    "\n",
    "Given $X \\in \\mathbb{R}^{N x D}$ and $Y \\in \\mathbb{R}^{M x D}$, obtain the pairwise distance matrix $dist \\in \\mathbb{R}^{N x M}$ using the euclidean distance metric, where $dist_{i, j} = ||X_i - Y_j||_2$.  \n",
    "\n",
    "DO NOT USE A FOR LOOP in your implementation -- they are slow and will make your code too slow to pass our grader.  Use array broadcasting instead."
   ]
  },
  {
   "cell_type": "code",
   "execution_count": 43,
   "metadata": {
    "colab": {},
    "colab_type": "code",
    "id": "RBu9mmdT6zy3"
   },
   "outputs": [],
   "source": [
    "def pairwise_dist(x, y):\n",
    "    \"\"\"\n",
    "    Args:\n",
    "        x: N x D numpy array\n",
    "        y: M x D numpy array\n",
    "    Return:\n",
    "        dist: N x M array, where dist2[i, j] is the euclidean distance between \n",
    "        x[i, :] and y[j, :]\n",
    "    \"\"\"\n",
    "    x2 = np.square(x)\n",
    "    y2 = np.square(y)\n",
    "    \n",
    "    x2_sum = np.sum(x2, axis=1)\n",
    "    y2_sum = np.sum(y2, axis=1)\n",
    "    xy = np.dot(x,np.transpose(y))\n",
    "    \n",
    "    dist2 = np.add(x2_sum,np.transpose(y2_sum-2*xy))\n",
    "    dist = np.sqrt(np.transpose(dist2))\n",
    "\n",
    "    #raise NotImplementedError\n",
    "    return dist"
   ]
  },
  {
   "cell_type": "code",
   "execution_count": 44,
   "metadata": {
    "colab": {
     "base_uri": "https://localhost:8080/",
     "height": 408
    },
    "colab_type": "code",
    "id": "xvit9c4a7T-g",
    "outputId": "cd2152ed-9828-442e-d057-5f890c4e97dd"
   },
   "outputs": [
    {
     "name": "stdout",
     "output_type": "stream",
     "text": [
      "*** Expected Answer ***\n",
      "==x==\n",
      "[[ 1.62434536 -0.61175641]\n",
      " [-0.52817175 -1.07296862]]\n",
      "==y==\n",
      "[[ 0.86540763 -2.3015387 ]\n",
      " [ 1.74481176 -0.7612069 ]\n",
      " [ 0.3190391  -0.24937038]]\n",
      "==dist==\n",
      "[[1.85239052 0.19195729 1.35467638]\n",
      " [1.85780729 2.29426447 1.18155842]]\n",
      "\n",
      "*** My Answer ***\n",
      "==x==\n",
      "[[ 1.62434536 -0.61175641]\n",
      " [-0.52817175 -1.07296862]]\n",
      "==y==\n",
      "[[ 0.86540763 -2.3015387 ]\n",
      " [ 1.74481176 -0.7612069 ]\n",
      " [ 0.3190391  -0.24937038]]\n",
      "==dist==\n",
      "[[1.85239052 0.19195729 1.35467638]\n",
      " [1.85780729 2.29426447 1.18155842]]\n"
     ]
    }
   ],
   "source": [
    "# TEST CASE\n",
    "#np.random.seed(1)\n",
    "x = np.random.randn(2, 2)\n",
    "y = np.random.randn(3, 2)\n",
    "\n",
    "print(\"*** Expected Answer ***\")\n",
    "print(\"\"\"==x==\n",
    "[[ 1.62434536 -0.61175641]\n",
    " [-0.52817175 -1.07296862]]\n",
    "==y==\n",
    "[[ 0.86540763 -2.3015387 ]\n",
    " [ 1.74481176 -0.7612069 ]\n",
    " [ 0.3190391  -0.24937038]]\n",
    "==dist==\n",
    "[[1.85239052 0.19195729 1.35467638]\n",
    " [1.85780729 2.29426447 1.18155842]]\"\"\")\n",
    "\n",
    "\n",
    "print(\"\\n*** My Answer ***\")\n",
    "print(\"==x==\")\n",
    "print(x)\n",
    "print(\"==y==\")\n",
    "print(y)\n",
    "print(\"==dist==\")\n",
    "print(pairwise_dist(x, y))"
   ]
  },
  {
   "cell_type": "markdown",
   "metadata": {
    "colab_type": "text",
    "id": "MQFgQ_lk7YIy"
   },
   "source": [
    "### 1.2 KMeans Implementation [30pts]\n",
    "\n",
    "In this section, you are asked to implement the kmeans algorithm. Below is a template which requires you to implement some member functions that haven't been implemented yet.\n",
    "\n",
    "For the function signature, please see the corresponding doc strings."
   ]
  },
  {
   "cell_type": "code",
   "execution_count": 45,
   "metadata": {
    "colab": {},
    "colab_type": "code",
    "id": "HTM49uLh7YpI"
   },
   "outputs": [],
   "source": [
    "def init_centers(points, K, **kwargs):\n",
    "    \"\"\"\n",
    "    Args:\n",
    "        points: NxD numpy array, where N is # points and D is the dimensionality\n",
    "        K: number of clusters\n",
    "        kwargs: any additional arguments you want\n",
    "    Return:\n",
    "        centers: K x D numpy array, the centers. \n",
    "    \"\"\"\n",
    "    position = np.random.randint(0,len(points)-1,K)\n",
    "    centers = points[position,]\n",
    "\n",
    "    #raise NotImplementedError\n",
    "    return centers\n",
    "\n",
    "def update_assignment(centers, points):\n",
    "    \"\"\"\n",
    "    Args:\n",
    "        centers: KxD numpy array, where K is the number of clusters, and D is the dimension\n",
    "        points: NxD numpy array, the observations\n",
    "    Return:\n",
    "        cluster_idx: numpy array of length N, the cluster assignment for each point\n",
    "        \n",
    "    Hint: You could call pairwise_dist() function.\n",
    "    \"\"\"\n",
    "    distance = pairwise_dist(points, centers)\n",
    "    cluster_idx = np.zeros(len(points))\n",
    "    for ii in range(len(points)):\n",
    "        cluster_idx[ii] = np.argmin(distance[ii,])\n",
    "\n",
    "    #raise NotImplementedError\n",
    "    return cluster_idx\n",
    "\n",
    "def update_centers(old_centers,overall_rating, cluster_idx, points):\n",
    "    \"\"\"\n",
    "    Args:\n",
    "        old_centers: old centers KxD numpy array, where K is the number of clusters, and D is the dimension\n",
    "        overall_rating: numpy array of length N x 1, the rating for each point\n",
    "        cluster_idx: numpy array of length N, the cluster assignment for each point\n",
    "        points: NxD numpy array, the observations\n",
    "    Return:\n",
    "        centers: new centers, K x D numpy array, where K is the number of clusters, and D is the dimension.\n",
    "        rating: mean rating of each cluster, K x 1 array, where where K is the number of clusters\n",
    "    \"\"\"\n",
    "    K = len(old_centers)\n",
    "    new_centers = np.zeros((K, points.shape[1]));\n",
    "    rating = np.zeros(K)\n",
    "    for ii in range(K):\n",
    "        position = np.where(cluster_idx == ii)[0]\n",
    "        k_center = np.mean(points[position,], axis = 0)\n",
    "        k_rating = np.mean(overall_rating[position,])\n",
    "        #print(k_center)\n",
    "        #print(k_rating)\n",
    "        new_centers[ii,] = k_center\n",
    "        rating[ii] = k_rating\n",
    "    centers = new_centers\n",
    "\n",
    "    #raise NotImplementedError\n",
    "    return centers, rating\n",
    "\n",
    "def get_loss(centers, cluster_idx, points):\n",
    "    \"\"\"\n",
    "    Args:\n",
    "        centers: KxD numpy array, where K is the number of clusters, and D is the dimension\n",
    "        cluster_idx: numpy array of length N, the cluster assignment for each point\n",
    "        points: NxD numpy array, the observations\n",
    "    Return:\n",
    "        loss: a single float number, which is the objective function of KMeans. \n",
    "    \"\"\"\n",
    "    K = len(centers)\n",
    "    loss_all = np.zeros(K)\n",
    "    for ii in range(K):\n",
    "        position = np.where(cluster_idx == ii)[0]\n",
    "        k_center = np.array([centers[ii,]])\n",
    "        distance = pairwise_dist(points[position,], k_center)\n",
    "        distance = np.square(distance)\n",
    "        loss_all[ii] = np.sum(distance)\n",
    "    loss = np.sum(loss_all)/len(points)\n",
    "    #print(loss)\n",
    "\n",
    "    #raise NotImplementedError\n",
    "    return loss\n",
    "        \n",
    "def K_means(points, overall_rating, K, max_iters=500, abs_tol=1e-16, rel_tol=1e-16, verbose=False, **kwargs):\n",
    "    \"\"\"\n",
    "    Args:\n",
    "        points: NxD numpy array, where N is # points and D is the dimensionality\n",
    "        overall_rating: numpy array of length N x 1, the rating for each point\n",
    "        K: number of clusters\n",
    "        max_iters: maximum number of iterations (Hint: You could change it when debugging)\n",
    "        abs_tol: convergence criteria w.r.t absolute change of loss\n",
    "        rel_tol: convergence criteria w.r.t relative change of loss\n",
    "        verbose: boolean to set whether method should print loss (Hint: helpful for debugging)\n",
    "        kwargs: any additional arguments you want\n",
    "    Return:\n",
    "        cluster_idx: Nx1 int numpy array, the cluster assignment for each point\n",
    "        loss: final loss value of the objective function of KMeans\n",
    "        highest_rating: The highest rating among the average ratings of final clusters\n",
    "        winning_center : The center of cluster corresponding to the maximum rating value\n",
    "    \"\"\"\n",
    "    centers = init_centers(points, K)\n",
    "    for it in range(max_iters):\n",
    "        cluster_idx = update_assignment(centers, points)\n",
    "        centers,rating = update_centers(centers, overall_rating, cluster_idx, points)\n",
    "        loss = get_loss(centers, cluster_idx, points)\n",
    "        K = centers.shape[0]\n",
    "        if it:\n",
    "            diff = np.abs(prev_loss - loss)\n",
    "            if diff < abs_tol and diff / prev_loss < rel_tol:\n",
    "                break\n",
    "        prev_loss = loss\n",
    "        if verbose:\n",
    "            print('iter %d, loss: %.4f' % (it, loss))\n",
    "    highest_rating=np.max(rating)\n",
    "    winning_center=centers[np.where(rating==highest_rating)[0],:]\n",
    "    return cluster_idx, loss, winning_center, highest_rating"
   ]
  },
  {
   "cell_type": "markdown",
   "metadata": {
    "colab_type": "text",
    "id": "jaFMvPfRUCDg"
   },
   "source": [
    "### 1.3 Candy Clustering\n",
    "\n",
    "In this section, you will use your K-Means algorithm to do clustering of candies. Imagine that you are the CEO of a candy company. You want to create a new product. However, you are fairly conservative, so you do not want to make a radically new product. Instead, you want to make a product that is similar to other best-selling candies.\n",
    "The way to do this is simple. You look at all of the candies in the market and cluster them by properties like sweetness, sourness, and nuttiness. You pick one of the centroids of this cluster (the cluster with the absolute best sellers), and that is the candy that you should make.\n",
    "\n",
    "To help you with this process, we have already done the market research for you. We have provided you with a file called Candy_files.txt. Each row specifies a candy and its properties. For example, the first row of this file is\n",
    "\n",
    "Nastly Cheese Peanut-Butter Candy Sticks,0.28,0.63,0.68,0.85,1.75\n",
    "This is six items separated by commas. The items are (in order)\n",
    "\n",
    "*   The name of the candy. It will almost always have spaces.\n",
    "*   The candy sweetness. This is a float between 0 and 1 (where 0 = not sweet, 1 = extremely sweet). \n",
    "*   The candy sourness. This is a float between 0 and 1 (where 0 = not sour, 1 = extremely sour).\n",
    "*   The candy nuttiness. This is a float between 0 and 1 (where 0 = no nuts, 1 = all nuts).\n",
    "*  The candy texture. This is a float between 0 and 1 (where 0 = smooth, 1 = hard and crunchy).\n",
    "*   The rating. This is a float between 0 and 5 to measure its popularity (e.g the \"stars\")\n",
    "\n",
    "You should cluster candies by their their sweetness, sourness and nuttiness attributes (Ignore the texture attribute for this assignment. We want to keep 3 features so that we can visualize our results in 3D). Find the average rating of each cluster and pick the centroid of that cluster as the desired candy you should manufacture."
   ]
  },
  {
   "cell_type": "code",
   "execution_count": 46,
   "metadata": {
    "colab": {},
    "colab_type": "code",
    "id": "RpfioZ4Z7a9a"
   },
   "outputs": [],
   "source": [
    "# helper function for reading the text file. You don't have to modify it\n",
    "\n",
    "def read_file():#read the .txt file. You only need to change the directory of the open function.\n",
    "    candies=np.zeros((19000,3))\n",
    "    overall_rating=np.zeros((19000,1))\n",
    "    cnt=0\n",
    "    with open(r'.\\Candy_files.txt', 'r') as f:\n",
    "    #add the path of the text file \"Candy_files.txt\" provided to you here\n",
    "        for line in f:\n",
    "            name, sweet, sour, nut, texture, rating = line.split(',')\n",
    "            candies[cnt,:]=[sweet, sour, nut]\n",
    "            overall_rating[cnt,0]=rating\n",
    "            cnt+=1\n",
    "    return candies,overall_rating"
   ]
  },
  {
   "cell_type": "code",
   "execution_count": 47,
   "metadata": {
    "colab": {},
    "colab_type": "code",
    "id": "jAWtGfo77kBr"
   },
   "outputs": [],
   "source": [
    "# helper function for plotting 3D cluster results. You don't have to modify it\n",
    "\n",
    "def visualise(X, C, K):#Visualization of clustering. You don't need to change this function   \n",
    "    fig = plt.figure()\n",
    "    ax = fig.gca(projection='3d')\n",
    "    ax.scatter(X[:,0], X[:,1], X[:,2], c=C,cmap='rainbow')\n",
    "    plt.title('Visualization of K = '+str(K), fontsize=15)\n",
    "    plt.show()\n",
    "    pass"
   ]
  },
  {
   "cell_type": "code",
   "execution_count": 52,
   "metadata": {
    "colab": {
     "base_uri": "https://localhost:8080/",
     "height": 350
    },
    "colab_type": "code",
    "id": "1Y5NIX1y7jWT",
    "outputId": "d642ab5a-04d8-4bcf-bb20-54ea1d7fc69b"
   },
   "outputs": [
    {
     "name": "stdout",
     "output_type": "stream",
     "text": [
      "The highest rating for k= 5 is 2.7412851405622494\n",
      "The winning center for k=5 is: sweetness = 0.7239934738955816 , sourness=  0.7860291164658616 nuttyness=  0.19371485943775024\n"
     ]
    },
    {
     "data": {
      "image/png": "[encoded data removed]",
      "text/plain": [
       "<Figure size 432x288 with 1 Axes>"
      ]
     },
     "metadata": {
      "needs_background": "light"
     },
     "output_type": "display_data"
    },
    {
     "name": "stdout",
     "output_type": "stream",
     "text": [
      "The highest rating for k= 15 is 3.1402151238591918\n",
      "The winning center for k= 15 is: sweetness = 0.8608474576271204 , sourness=  0.8382855280312929 nuttiness=  0.18997392438070432\n"
     ]
    },
    {
     "data": {
      "image/png": "[encoded data removed]",
      "text/plain": [
       "<Figure size 432x288 with 1 Axes>"
      ]
     },
     "metadata": {
      "needs_background": "light"
     },
     "output_type": "display_data"
    }
   ],
   "source": [
    "# helper function for running the algorithm for K=5 and K=15. You don't have to modify it\n",
    "\n",
    "candies,overall_rating= read_file()\n",
    "#features comprise the sweetness, sourness and nuttiness of the candies which will be the basis of clustering. \n",
    "#Overall_rating is the rating of each candy\n",
    "cluster_idx, loss, winning_center, highest_rating =  K_means(candies, overall_rating, 5)\n",
    "print ('The highest rating for k= 5 is',highest_rating)\n",
    "print ('The winning center for k=5 is: sweetness =',winning_center[0,0], ', sourness= ', winning_center[0,1], 'nuttyness= ', winning_center[0,2])\n",
    "visualise(candies, cluster_idx,5)\n",
    "\n",
    "cluster_idx, loss, winning_center, highest_rating =  K_means(candies,overall_rating, 15)\n",
    "print ('The highest rating for k= 15 is',highest_rating)\n",
    "print ('The winning center for k= 15 is: sweetness =',winning_center[0,0], ', sourness= ', winning_center[0,1], 'nuttiness= ', winning_center[0,2])\n",
    "visualise(candies, cluster_idx,15)\n"
   ]
  },
  {
   "cell_type": "markdown",
   "metadata": {
    "colab_type": "text",
    "id": "3GKfYStJ7qlf"
   },
   "source": [
    "### 1.4 Find the optimal number of clusters [10 pts]\n",
    "\n",
    "You will now use the elbow method to find the optimal number of clusters to use for candy clustering."
   ]
  },
  {
   "cell_type": "code",
   "execution_count": 57,
   "metadata": {
    "colab": {
     "base_uri": "https://localhost:8080/",
     "height": 197
    },
    "colab_type": "code",
    "id": "ibwxhlUH7lYX",
    "outputId": "d84e7493-23e9-4f01-fb18-bfed783207ef"
   },
   "outputs": [
    {
     "name": "stderr",
     "output_type": "stream",
     "text": [
      "D:\\Applications\\Anaconda\\lib\\site-packages\\ipykernel_launcher.py:18: RuntimeWarning: invalid value encountered in sqrt\n"
     ]
    },
    {
     "data": {
      "image/png": "[encoded data removed]",
      "text/plain": [
       "<Figure size 432x288 with 1 Axes>"
      ]
     },
     "metadata": {
      "needs_background": "light"
     },
     "output_type": "display_data"
    }
   ],
   "source": [
    "candies,overall_rating= read_file()\n",
    "def find_optimal_num_clusters(points, overall_rating, max_K=30):\n",
    "    \"\"\"Plots loss values for different number of clusters in K-Means\n",
    "    Args:\n",
    "        points: input points of candies\n",
    "        overall_rating: numpy array of length N x 1, the rating for each point\n",
    "        max_K: number of clusters\n",
    "    Return:\n",
    "        None (plot loss values against number of clusters)\n",
    "    \"\"\"\n",
    "\n",
    "    loss_allK = np.zeros(max_K)\n",
    "    for ii in range(max_K):\n",
    "        #print(ii)\n",
    "        cluster_idx, loss, winning_center, highest_rating =  K_means(candies, overall_rating, K=ii+1, max_iters=10)\n",
    "        #print(loss)\n",
    "        loss_allK[ii] = loss\n",
    "    plt.plot(np.arange(max_K)+1, loss_allK)\n",
    "    \n",
    "    #raise NotImplementedError\n",
    "    return\n",
    "\n",
    "find_optimal_num_clusters(candies, overall_rating, max_K=30)"
   ]
  },
  {
   "cell_type": "markdown",
   "metadata": {
    "colab_type": "text",
    "id": "J6RlAoeC82em"
   },
   "source": [
    "## 2 EM algorithm [20 pts]"
   ]
  },
  {
   "cell_type": "markdown",
   "metadata": {
    "colab_type": "text",
    "id": "5tx8ivYs9IVJ"
   },
   "source": [
    "### 2.1 Performing EM Algorithm [20 pts for CS 4641; 10 points for CS 7641]\n",
    "\n",
    "EM algorithm is a widely used approach to learning in the presence of unobserved variables. Consider the general framework of the EM algorithm, given a joint distribution $P(x,z|\\theta)$ over observed variables $x$, hidden variable $z$ and its distribution $q(z)$, and governing parameter $\\theta$, the goal is to maximize the likelihbood function $P(x|\\theta)$ and given the following expression:\n",
    "    \n",
    "$$\\log P(x|\\theta) = \\log (\\sum_{z}P(x, z|\\theta)) = \\log (\\sum_{z}q(z)\\frac{P(x, z|\\theta)}{q(z)}) \\geq \\sum_{z}q(z) \\log \\frac{P(x, z|\\theta)}{q(z)} = \\sum_{z}q(z) \\log \\frac{P(z|x, \\theta)P(x|\\theta)}{q(z)}$$\n",
    "\n",
    "The inequality is based on the Jensen's Theorem.\n",
    "\n",
    "2.1.1. Please provide a brief description on how to perform the $E$ step in the above equation.\n",
    "\n",
    "2.1.2. Please provide a brief description on how to perform the $M$ step in the above equation.\n",
    "\n",
    "Suppose\n",
    "\n",
    "$$F(q,\\theta) = \\sum_{z}q(z) \\log \\frac{P(x, z|\\theta)}{q(z)}$$\n",
    "\n",
    "During the lecture, the expression $\\sum_{z}q(z) \\log \\frac{P(x, z|\\theta)}{q(z)}$ was explained through the sum of entropy and log-likelihood; the same approach can also be explained using KL-divergence. \n",
    "\n",
    "2.1.3. Please derive that from the above equation (**Hint**: use product rule for joint probability) and explain what will happen to the KL term in the $E$ step."
   ]
  },
  {
   "cell_type": "markdown",
   "metadata": {},
   "source": [
    "### Answer:\n",
    "#### 2.1.1\n",
    "E step is to find the resposibilities that maximizing $\\log P(x|\\theta)$ using the current $\\theta$ value. In the above equation, $\\sum_{z}q(z) \\log \\frac{P(z|x, \\theta)P(x|\\theta)}{q(z)}$ provides a lower bound of $\\log P(x|\\theta)$, and maximize of this term will lead to maximazation of the likelihood function.\n",
    "$$\n",
    "q(z)^{(t+1)} = \\arg\\max_q \\log P(x|\\theta) = \\arg\\max_q \\sum_{z}q(z) \\log \\frac{P(z|x, \\theta)P(x|\\theta)}{q(z)} = p(z|x;\\theta^{(t)})\n",
    "$$\n",
    "#### 2.1.2\n",
    "M step is to apply MLE method to estimate parameters $\\theta$ that maximizing $\\log P(x|\\theta)$ using the current $\\tau(z)$.\n",
    "In the above equation:\n",
    "$$\n",
    "\\begin{align}\n",
    "\\theta^{(t+1)} & = \\arg\\max_\\theta \\log P(x|\\theta) \\\\\n",
    " & = \\arg\\max_\\theta \\sum_{z} q(z)^{(t+1)} \\log \\frac{P(z|x,\\theta)P(x|\\theta)}{q(z)^{(t+1)}} \\\\\n",
    " & = \\arg\\max_\\theta (\\sum_{z}q(z)^{(t+1)}\\log P(z|x, \\theta)P(x|\\theta) - \\sum_{z} q(z)^{(t+1)} \\log q(z)^{(t+1)}) \\\\\n",
    " & = \\arg\\max_\\theta (\\mathcal{L}_c(\\theta;x,z)_q + H_q)\n",
    "\\end{align}\n",
    "$$\n",
    "The first trem is the expected complete data log likelihood with respect to $q(z)$, the second term is entropy of $q(z)$, which does not depend on $\\theta$. For fixed $q(z)$, only need to consider the first term.\n",
    "$$\n",
    "\\begin{align}\n",
    "\\theta^{(t+1)} & = \\arg\\max_\\theta \\mathcal{L}_c(\\theta;x,z)_q \\\\\n",
    " &= \\arg\\max_\\theta \\sum_z q(z)^{(t+1)} \\log p(x,z|\\theta) \\\\\n",
    " &= \\arg\\max_\\theta \\sum_z p(z|x;\\theta^{(t)}) \\log p(x,z|\\theta)\n",
    "\\end{align}\n",
    "$$\n",
    "#### 2.1.3\n",
    "$$\n",
    "\\begin{align}\n",
    "F(q,\\theta) & = \\sum_{z}q(z) \\log \\frac{P(x, z|\\theta)}{q(z)} \\\\\n",
    " & = \\sum_{z}q(z) \\log \\frac{p(z|x,\\theta)p(x|\\theta)}{q(z)} \\\\\n",
    " & = \\sum_{z}q(z) \\log \\frac{p(z|x,\\theta)}{q(z)} + \\sum_{z}q(z) \\log p(x|\\theta) \\\\\n",
    " & = -KL[q(z)||p(z|x,\\theta)] + \\log p(x|\\theta) \\\\\n",
    "\\end{align}\n",
    "$$\n",
    "E step:\n",
    "$$\n",
    "q(z)^{(t+1)}  = \\arg\\max_q F(q,\\theta^{(t)}) \n",
    "  = \\arg\\max_q (-KL[q(z)^{(t+1)}||p(z|x,\\theta^{(t)})] + \\log p(x|\\theta^{(t)})) \\\\\n",
    "$$\n",
    "The second term is not related to q.\n",
    "\n",
    "$\\Rightarrow$ maximize $F(q,\\theta^{(t)})$ is the same as minimize the KL term;\n",
    "\n",
    "$\\Rightarrow$ $q(z)$ and $p(z|x,\\theta)$ are pmf, the KL term $\\geqslant 0$; $KL[p||q] = 0$ when $p=q$;\n",
    "\n",
    "$\\Rightarrow$ $q(z)^{(t+1)} = p(z|x,\\theta^{(t)})$\n"
   ]
  },
  {
   "cell_type": "markdown",
   "metadata": {
    "colab_type": "text",
    "id": "Z2A_jXIawP--"
   },
   "source": [
    "### 2.2 EM Algorithm in Coin Toss problem [10 pts for CS 7641; 10 points Bonus for CS 4641]\n",
    "\n",
    "Suppose we have a bunch of coins $C$ consisting three kinds of coins. Mathematically, it obeys a mixed Bernoulli distribution:\n",
    "$$X\\sim F = \\pi_{1} F_{1}+\\pi_{2} F_{2}+(1-\\pi_{1}-\\pi_{2}) F_{3}$$\n",
    "where $\\pi_{1} \\in [0,1]$,$\\pi_{2} \\in [0,1]$, and $F_{1}=Ber(p_{1})$, $F_{2}=Ber(p_{2})$, $F_{3}=Ber(p_{3})$. That is to say, each coin belongs to $F_{1}$, $F_{2}$ or $F_{3}$. Here $Ber(p)$ means the coin gives 1 (head) with probability $p$ and gives 0 (tail) with probability $1-p$.\n",
    "We initialized parameters $p_{1}=\\frac{1}{2}$, $p_{2}=\\frac{4}{5}$, $p_{3}=\\frac{1}{4}$, $\\pi_{1}=\\frac{1}{3}$, $\\pi_{2}=\\frac{1}{3}$. Now, we draw 3 coins $X_{1}$, $X_{2}$, $X_{3}$ independently from $C$ and have 6 independent trials for each of them. The result shows:\n",
    "\n",
    "$$\n",
    "\\begin{array}{|c|c|c|c|}\\hline Coins & X_{1} & X_{2} & X_{3}   \\\\ \\hline Trial 1 & 0 & 1 & 1   \\\\ \\hline Trial 2 & 0 & 1 & 1   \\\\ \\hline Trial 3 & 1 & 0 & 1   \\\\  \\hline Trial 4 & 0 & 1 & 1   \\\\ \\hline Trial 5 & 1 & 0 & 1   \\\\ \\hline Trial 6 & 1 & 0 & 0   \\\\\\hline\\end{array}\n",
    "$$\n",
    "\n",
    "\n",
    "2.2.1. Use EM algorithm for one step, we update $F = F(p_{1}=\\frac{1}{2},p_{2}=\\frac{4}{5},p_{3}=\\frac{1}{4},\\pi_{1}=\\frac{1}{3},\\pi_{2}=\\frac{1}{3})$ to $F^{'}(p_{1}^{'},p_{2}^{'},p_{3}^{'},\\pi_{1}^{'},\\pi_{2}^{'})$. Write down your EM algorithm and show the value of $p_{1}^{'},p_{2}^{'},p_{3}^{'},\\pi_{1}^{'},\\pi_{2}^{'}$. (Round the answer to three decimal places.)\n",
    "\n",
    "(**Hint**: $\\theta^{new}=argmax_{\\theta}\\sum_{Z}p(Z|X,\\theta^{old})\\ln p(X,Z|\\theta)$)\n",
    "\n",
    "2.2.2. Using $F^{'}(p_{1}^{'},p_{2}^{'},p_{3}^{'},\\pi_{1}^{'},\\pi_{2}^{'})$, find the entropy of X. (Round the answer to three decimal places.)\n",
    "\n",
    "\n",
    "\n",
    "\n",
    "\n",
    "\n",
    "\n"
   ]
  },
  {
   "cell_type": "markdown",
   "metadata": {},
   "source": [
    "### Answer\n",
    "#### 2.2.1\n",
    "E step:\n",
    "\n",
    "$\\tau(z_{nk}) = \\frac{\\pi_k P(X_n|p_k)}{\\sum_{j=1}^{3} \\pi_j P(X_n|p_j)}$, for n=1,2,3.\n",
    "\n",
    "E.g. for n=1, k=1, $\\tau(z_{11}) = \\frac{\\pi_1 P(X_1|p_1)}{\\sum_{j=1}^{3} \\pi_j P(X_n|p_j)}\n",
    "= \\frac{\\frac{1}{3} \\frac{1}{2}^6}{\\frac{1}{3} \\frac{1}{2}^6 + \\frac{1}{3} \\frac{4}{5}^3\\frac{1}{5}^3 + \\frac{1}{3} \\frac{1}{4}^3\\frac{3}{1}^3} = 0.594$\n",
    "\n",
    "$q(z)_{nk} = \\tau(z_{nk})$,\n",
    "$q(z) = \\begin{bmatrix} \n",
    "  0.594 & 0.156 & 0.250 \\\\ \n",
    "  0.594 & 0.156 & 0.250 \\\\\n",
    "  0.191 & 0.800 & 0.009\n",
    "  \\end{bmatrix}\n",
    "$,\n",
    "where rows correspond to $X_1 - X_3$, columns correspond to $F_1 - F_3$.\n",
    "\n",
    "M step:\n",
    "\n",
    "$$\n",
    "\\begin{align}\n",
    "\\theta & = \\arg\\max_\\theta \\sum_z q(z) \\log p(x,z|\\theta) \\\\\n",
    " & = \\sum_X \\sum_z q(z) \\ln P(x,z|\\theta) \\\\\n",
    " & = \\sum_X \\sum_z q(z) \\ln P(z|\\theta)P(X|z,\\theta) \\\\ \n",
    " & = \\sum_X \\sum_z q(z) \\ln \\pi_i F_i\n",
    "\\end{align}\n",
    "$$\n",
    "E.g. for $X_1,\\,z_1$, $q(z) ln \\pi_i F_i = 0.594 \\ln \\pi_1 F_1 = 0.594 \\ln \\pi_1 p_1^3 (1-p_1)^3$\n",
    "$$\n",
    "\\begin{align}\n",
    "\\sum_X \\sum_z q(z) \\ln \\pi_i F_i & = 1.379 \\ln \\pi_1 + 4.519 \\ln p_1 + 3.755 \\ln (1-p_1) \\\\\n",
    "                                 & + 1.112 \\ln \\pi_2 + 4.936 \\ln p_2 + 1.736 \\ln (1-p_2) \\\\\n",
    "                                 & + 0.509 \\ln (1-\\pi_1-\\pi_2) + 1.545 \\ln p_3 + 1.509 \\ln (1-p_3)\n",
    "\\end{align}\n",
    "$$\n",
    "$$\n",
    " \\frac{\\partial \\sum_X \\sum_z q(z) \\ln \\pi_i F_i}{\\partial p_1} = 4.519/p_1 - 3.755/(1-p_1) = 0\n",
    " \\rightarrow p_1 \\approx 0.516 $$\n",
    "Similarly, $p_1 \\approx 0.516,\\,p_2 \\approx 0.752,\\,p_3 \\approx 0.426,\\,\\pi_1 \\approx 0.460,\\,\\pi_2 \\approx 0.371$\n",
    "\n",
    "#### 2.2.2\n",
    "$$\n",
    "\\begin{align}\n",
    "H(X) & = -\\sum_{X=0,1} \\sum_{i = 1,2,3} P(X, X\\sim F_i) \\log_2 P(X, X\\sim F_i) \\\\\n",
    " & = -\\sum_{X=0,1} \\sum_{i = 1,2,3} P(X|F_i)P(F_i) \\log_2 (P(X|F_i)P(F_i)) \\\\\n",
    " & = - \\sum_{i = 1,2,3} (p_i \\pi_i \\log_2(p_i \\pi_i) + (1-p_i) \\pi_i \\log_2((1-p_i) \\pi_i)) \\\\\\\n",
    " & \\approx 2.405\n",
    "\\end{align}\n",
    "$$"
   ]
  },
  {
   "cell_type": "markdown",
   "metadata": {
    "colab_type": "text",
    "id": "4ixFqMoB-gbY"
   },
   "source": [
    "## 3. GMM implementation [5+5+25 pts]\n",
    "\n",
    "GMM is trying to do MLE (maximum likelihood estimation). It approximates the distribution of data using a set of gaussian distributions. \n",
    "\n",
    "Given $N$ samples $X = [x_1, x_2, \\ldots, x_N]$, we are asked to find $K$ diagonal gaussian distributions to model the data $X$: \n",
    "\n",
    "\\begin{align}\n",
    "    \\max_{\\{\\mu_k, \\sigma_k\\}_{k=1}^K} \\sum_{i=1}^N \\log \\big( \\sum_{k=1}^{K} \\pi(k) \\mathcal{N}(x_i | \\mu_k, \\sigma_k)\\big)\n",
    "\\end{align}\n",
    "\n",
    "- For undergaduate student: you may assume the covariance matrix is diag matrix, which means the features are independent. (i.e. the red intensity of a pixel is independent from its blue intensity, etc). \n",
    "- For graduate student: please assume full covariance matrix.\n",
    "\n",
    "**Hints**\n",
    "\n",
    "1. Here $\\pi(\\cdot)$ is the prior of the latent variable. It is also called the mixture coefficient. To make it simple, we assume $\\pi(k) = \\frac{1}{K}, \\forall k = 1, 2, \\ldots, K$.\n",
    "\n",
    "2. As we create our model, we will need to use a multivariate Gaussian since our pixels are 3-dimensional vectors corresponding to red, green, and blue color intensities.  It means that for each image, you need to convert it into a N*3 matrix, where N is the number of pixels, and 3 is the number of features.\n",
    "\n",
    "The following example from a machine learning textbook may be helpful:\n",
    "\n",
    "3. In this question, each pixel has three features, which are R, G, and B.\n",
    "\n",
    "4. At EM steps, gamma means $\\tau\\left(z_{n k}\\right)$ at our slide of GMM, which is called the responsibility. If we have K components, each data point (pixel) will have K responsibility values.\n",
    "\n",
    "5. For E steps, we already get the log-likelihood at ll_joint() function. For the fomula at our slide:\n",
    "$$\n",
    "\\tau\\left(z_{n k}\\right)=\\frac{\\pi_{k} N\\left(x_{n} | \\mu_{k}, \\Sigma_{k}\\right)}{\\sum_{j=1}^{K} \\pi_{j} N\\left(x_{n} | \\mu_{j}, \\Sigma_{j}\\right)},\n",
    "$$\n",
    "ll_joint equals to the $N$ here. Thus, You should be able to finish E steps with just a few lines of code by using ll_joint() and softmax() defined above."
   ]
  },
  {
   "cell_type": "markdown",
   "metadata": {
    "colab_type": "text",
    "id": "hJQe_EO8uB5D"
   },
   "source": [
    "## 3.1 Helper functions\n",
    "\n",
    "### softmax [5 pts]\n",
    "\n",
    "Given $logit \\in \\mathbb{R}^{N x D}$, calculate $prob \\in \\mathbb{R}^{N x D}$, where $prob_{i, j} = \\frac{\\exp(logit_{i, j})}{\\sum_{d=1}^D exp(logit_{i, k})}$.\n",
    "\n",
    "Note that it is possible that $logit_{i, j}$ is very large, making $\\exp(\\cdot)$ of it to explode. To make sure it is numerical stable, you may need to subtract the maximum for each row of $logits$.  As in calculating pairwise distances, DO NOT USE A FOR LOOP."
   ]
  },
  {
   "cell_type": "code",
   "execution_count": 3,
   "metadata": {
    "colab": {},
    "colab_type": "code",
    "id": "TqJzqn-7uB5E",
    "outputId": "1c56e4ef-cea0-4850-a9b3-e38b0fbf33b9"
   },
   "outputs": [
    {
     "name": "stdout",
     "output_type": "stream",
     "text": [
      "Correct answer:\n",
      "===softmax===\n",
      "[[0.5        0.5       ]\n",
      " [0.26894143 0.7310586 ]]\n",
      "My answer:\n",
      "[[0.5        0.5       ]\n",
      " [0.26894143 0.7310586 ]]\n"
     ]
    }
   ],
   "source": [
    "def softmax(logits):\n",
    "    \"\"\"\n",
    "    Args:\n",
    "        logits: N x D numpy array\n",
    "    \"\"\"\n",
    "    row_max = np.amax(logits,axis = 1)\n",
    "    sub_max = np.transpose(np.transpose(logits)-row_max)\n",
    "    sub_max_exp = np.exp(sub_max)\n",
    "    sub_max_sum = np.sum(sub_max_exp, axis = 1)\n",
    "    sub_max_exp = np.transpose(sub_max_exp)\n",
    "    prob = np.transpose(sub_max_exp / sub_max_sum)\n",
    "    \n",
    "    #raise NotImplementedError\n",
    "    return prob\n",
    "    \n",
    "logits = np.array([[1000, 1000], \n",
    "                   [1, 2]], dtype=np.float32)\n",
    "print(\"\"\"Correct answer:\n",
    "===softmax===\n",
    "[[0.5        0.5       ]\n",
    " [0.26894143 0.7310586 ]]\"\"\")\n",
    "\n",
    "print(\"My answer:\")\n",
    "print(softmax(logits))"
   ]
  },
  {
   "cell_type": "markdown",
   "metadata": {
    "colab_type": "text",
    "id": "C80h3d5euB5G"
   },
   "source": [
    "### logsumexp [5 pts]\n",
    "\n",
    "Given $logit \\in \\mathbb{R}^{N x D}$, calculate $s \\in \\mathbb{R}^N$, where $s_i = \\log \\big( \\sum_{j=1}^D \\exp(logit_{i, j}) \\big)$. Again, pay attention to the numerical problem. You may want to use similar trick as in the softmax function.  DO NOT USE A FOR LOOP."
   ]
  },
  {
   "cell_type": "code",
   "execution_count": 4,
   "metadata": {
    "colab": {},
    "colab_type": "code",
    "id": "t0kTNbhFuB5H",
    "outputId": "291b75d5-1b78-4d11-f9a0-9747d39dc74f"
   },
   "outputs": [
    {
     "name": "stdout",
     "output_type": "stream",
     "text": [
      "Correct Answer:\n",
      "===logsumexp===\n",
      "[[1000.6932   ]\n",
      " [   2.3132617]]\n",
      "My answer: \n",
      "[[1000.6932   ]\n",
      " [   2.3132617]]\n"
     ]
    }
   ],
   "source": [
    "def logsumexp(logits):\n",
    "    \"\"\"\n",
    "    Args:\n",
    "        logits: N x D numpy array\n",
    "    Return:\n",
    "        s: N x 1 array where s[i,0] = logsumexp(logits[i,:])\n",
    "    \"\"\"\n",
    "    row_max = np.amax(logits,axis = 1)\n",
    "    sub_max = np.transpose(np.transpose(logits)-row_max)\n",
    "    sub_max_exp = np.exp(sub_max)\n",
    "    sub_max_sum = np.sum(sub_max_exp, axis = 1)\n",
    "    logsum = np.log(sub_max_sum) + row_max\n",
    "    s = logsum.reshape(-1,1)\n",
    "    \n",
    "    #raise NotImplementedError\n",
    "    return s\n",
    "\n",
    "\n",
    "logits = np.array([[1000, 1000], \n",
    "                   [1, 2]], dtype=np.float32)\n",
    "print(\"\"\"Correct Answer:\n",
    "===logsumexp===\n",
    "[[1000.6932   ]\n",
    " [   2.3132617]]\"\"\")\n",
    "\n",
    "print(\"My answer: \")\n",
    "print(logsumexp(logits))"
   ]
  },
  {
   "cell_type": "markdown",
   "metadata": {
    "colab_type": "text",
    "id": "oj3URdu1uB5K"
   },
   "source": [
    "## 3.2 GMM Implementations [25pts]\n",
    "\n"
   ]
  },
  {
   "cell_type": "code",
   "execution_count": 71,
   "metadata": {
    "colab": {},
    "colab_type": "code",
    "id": "SkcdDpIy9Iz2"
   },
   "outputs": [],
   "source": [
    "class GMM(object):\n",
    "    def __init__(self): # No need to implement\n",
    "        pass\n",
    "        \n",
    "    def _init_components(self, points, K, **kwargs):\n",
    "        \"\"\"\n",
    "        Args:\n",
    "            points: NxD numpy array, the observations\n",
    "            K: number of components\n",
    "            kwargs: any other args you want\n",
    "        Return:\n",
    "            pi: numpy array of length K, prior\n",
    "            mu: KxD numpy array, the center for each gaussian. \n",
    "            sigma: KxD numpy array, the diagonal standard deviation of each gaussian. You will have KxDxD numpy\n",
    "            array for full covariance matrix case\n",
    "            \n",
    "        \"\"\"\n",
    "        pi = np.zeros(K);\n",
    "        pi[:] = 1/K\n",
    "\n",
    "        positions = np.random.randint(0,len(points)-1,K*points.shape[1])\n",
    "        mu = np.zeros((K,points.shape[1]))\n",
    "        for ii in range(points.shape[1]):\n",
    "            mu[:,ii] = points[positions[ii*K:(ii+1)*K],ii]\n",
    "        \n",
    "        sigma = np.zeros((K,points.shape[1],points.shape[1]))\n",
    "        for jj in range(K):\n",
    "            sigma[jj] = np.transpose(mu[jj,:])*mu[jj,:]\n",
    "            #sigma[jj] = np.matmul(np.transpose(mu),mu)\n",
    "            #sigma[jj] = np.random.rand(3,3)*1000\n",
    "\n",
    "        #sigma = np.ones((K,points.shape[1],points.shape[1]))\n",
    "        #sigma_d = np.diag(np.ones(points.shape[1]))\n",
    "        #sigma = np.ones((K,points.shape[1],points.shape[1]))\n",
    "        #sigma[:] = sigma_d\n",
    "        \n",
    "        #raise NotImplementedError\n",
    "        return pi, mu, sigma\n",
    "\n",
    "    def _ll_joint(self, points, pi, mu, sigma, **kwargs):\n",
    "        \"\"\"\n",
    "        Args:\n",
    "            points: NxD numpy array, the observations\n",
    "            pi: np array of length K, the prior of each component\n",
    "            mu: KxD numpy array, the center for each gaussian. \n",
    "            sigma: KxD numpy array, the diagonal standard deviation of each gaussian. You will have KxDxD numpy\n",
    "            array for full covariance matrix case\n",
    "        Return:\n",
    "            ll(log-likelihood): NxK array, where ll(i, j) = log pi(j) + log NormalPDF(points_i | mu[j], sigma[j])\n",
    "            \n",
    "        Hint for undergraduate: Assume that each dimension of our multivariate gaussian are independent.  \n",
    "              This allows you to write treat it as a product of univariate gaussians.\n",
    "        \"\"\"\n",
    "        \n",
    "        N = points.shape[0]\n",
    "        D = points.shape[1]\n",
    "        K = len(pi)\n",
    "        ll = np.zeros((N,K))\n",
    "\n",
    "        for jj in range(K):\n",
    "            print(sigma[jj])\n",
    "            normalpdf_1 = 1/((2*np.pi)**(2/D)*np.sqrt(np.linalg.det(sigma[jj])))\n",
    "            temp = np.matmul((points-mu[jj]),np.linalg.pinv(sigma[jj]))\n",
    "            normalpdf_2 = 1-1/2*(np.einsum('ij,ji->i', temp,np.transpose(points-mu[jj])))\n",
    "            ll[:,jj] = np.log(pi[jj]) + np.log(normalpdf_1) + normalpdf_2\n",
    "        \n",
    "        return ll\n",
    "        #raise NotImplementedError\n",
    "\n",
    "    def _E_step(self, points, pi, mu, sigma, **kwargs):\n",
    "        \"\"\"\n",
    "        Args:\n",
    "            points: NxD numpy array, the observations\n",
    "            pi: np array of length K, the prior of each component\n",
    "            mu: KxD numpy array, the center for each gaussian. \n",
    "            sigma: KxD numpy array, the diagonal standard deviation of each gaussian.You will have KxDxD numpy\n",
    "            array for full covariance matrix case\n",
    "        Return:\n",
    "            gamma: NxK array, the posterior distribution (a.k.a, the soft cluster assignment) for each observation.\n",
    "            \n",
    "        Hint: You should be able to do this with just a few lines of code by using _ll_joint() and softmax() defined above. \n",
    "        \"\"\"\n",
    "        ll = self._ll_joint(points, pi, mu, sigma)\n",
    "        gamma = softmax(ll)\n",
    "        \n",
    "        #raise NotImplementedError\n",
    "        return gamma\n",
    "\n",
    "    def _M_step(self, points, gamma, **kwargs):\n",
    "        \"\"\"\n",
    "        Args:\n",
    "            points: NxD numpy array, the observations\n",
    "            gamma: NxK array, the posterior distribution (a.k.a, the soft cluster assignment) for each observation.\n",
    "        Return:\n",
    "            pi: np array of length K, the prior of each component\n",
    "            mu: KxD numpy array, the center for each gaussian. \n",
    "            sigma: KxD numpy array, the diagonal standard deviation of each gaussian. You will have KxDxD numpy\n",
    "            array for full covariance matrix case\n",
    "            \n",
    "        Hint:  There are formulas in the slide.\n",
    "        \"\"\"\n",
    "        \n",
    "        N = gamma.shape[0]\n",
    "        K = gamma.shape[1]\n",
    "        D = points.shape[1]\n",
    "        \n",
    "        mu_top = np.matmul(np.transpose(gamma),points)\n",
    "        mu_top = np.transpose(mu_top)\n",
    "        Nk = np.sum(gamma, axis = 0)\n",
    "        mu = np.transpose(mu_top/Nk)\n",
    "\n",
    "        pi = Nk/points.shape[0]\n",
    "\n",
    "        sigma = np.zeros((K,D,D))\n",
    "        for kk in range(K):\n",
    "            temp = np.zeros((N,D,D))\n",
    "            for nn in range(N):\n",
    "                temp2 = gamma[nn][kk]*(points[nn]-mu[kk]).reshape(-1,1) * (points[nn]-mu[kk])\n",
    "                temp[nn] = temp2\n",
    "            sigma[kk] = np.sum(temp, axis = 0)/Nk[kk]\n",
    "        \n",
    "        #raise NotImplementedError\n",
    "        return pi, mu, sigma\n",
    "\n",
    "    def __call__(self, points, K, max_iters=100, abs_tol=1e-16, rel_tol=1e-16, **kwargs):\n",
    "        \"\"\"\n",
    "        Args:\n",
    "            points: NxD numpy array, where N is # points and D is the dimensionality\n",
    "            K: number of clusters\n",
    "            max_iters: maximum number of iterations\n",
    "            abs_tol: convergence criteria w.r.t absolute change of loss\n",
    "            rel_tol: convergence criteria w.r.t relative change of loss\n",
    "            kwargs: any additional arguments you want\n",
    "        Return:\n",
    "            gamma: NxK array, the posterior distribution (a.k.a, the soft cluster assignment) for each observation.\n",
    "            (pi, mu, sigma): (1xK np array, KxD numpy array, KxD or KxDxD numpy array)       \n",
    "        Hint: You do not need to change it. For each iteration, we process E and M steps, then \n",
    "        \"\"\"        \n",
    "        pi, mu, sigma = self._init_components(points, K, **kwargs)\n",
    "#         gaussian_type = kwargs['gaussian'] # general: consider full covariance matrix\n",
    "#                                            # independent: consider only the diagonal, independant components of Gaussian\n",
    "        pbar = tqdm(range(max_iters))\n",
    "        for it in pbar:\n",
    "            # E-step\n",
    "            gamma = self._E_step(points, pi, mu, sigma)\n",
    "            \n",
    "            # M-step\n",
    "            pi, mu, sigma = self._M_step(points, gamma)\n",
    "            \n",
    "            # calculate the negative log-likelihood of observation\n",
    "            joint_ll = self._ll_joint(points, pi, mu, sigma)\n",
    "            loss = -np.sum(logsumexp(joint_ll))\n",
    "            if it:\n",
    "                diff = np.abs(prev_loss - loss)\n",
    "                if diff < abs_tol and diff / prev_loss < rel_tol:\n",
    "                    break\n",
    "            prev_loss = loss\n",
    "            pbar.set_description('iter %d, loss: %.4f' % (it, loss))\n",
    "        return gamma, (pi, mu, sigma)"
   ]
  },
  {
   "cell_type": "markdown",
   "metadata": {
    "colab_type": "text",
    "id": "3TKYVhEwGKCu"
   },
   "source": [
    "In this section, you will use your GMM algorithm to do pixel clustering."
   ]
  },
  {
   "cell_type": "code",
   "execution_count": 72,
   "metadata": {
    "colab": {},
    "colab_type": "code",
    "id": "CiRrwAbVKSQL"
   },
   "outputs": [],
   "source": [
    "# helper function for plotting images. You don't have to modify it\n",
    "def cluster_pixels_gmm(image, K):\n",
    "    \"\"\"Clusters pixels in the input image\n",
    "    \n",
    "    Args:\n",
    "        image: input image of shape(H, W, 3)\n",
    "        K: number of components\n",
    "    Return:\n",
    "        clustered_img: image of shape(H, W, 3) after pixel clustering\n",
    "    \"\"\"\n",
    "    im_height, im_width, im_channel = image.shape\n",
    "    flat_img = np.reshape(image, [-1, im_channel]).astype(np.float32)\n",
    "    gamma, (pi, mu, sigma) = GMM()(flat_img, K=K, max_iters=100)\n",
    "    cluster_ids = np.argmax(gamma, axis=1)\n",
    "    centers = mu\n",
    "\n",
    "    gmm_img = np.reshape(centers[cluster_ids], (im_height, im_width, im_channel))\n",
    "    \n",
    "    return gmm_img"
   ]
  },
  {
   "cell_type": "code",
   "execution_count": 73,
   "metadata": {
    "colab": {
     "base_uri": "https://localhost:8080/",
     "height": 375,
     "referenced_widgets": [
      "02ced44bb79744d9ad1eec51ce730db4",
      "6770b3f708a4412b8c0c20cc6ac92b75"
     ]
    },
    "colab_type": "code",
    "id": "kgVYo3cGGXcs",
    "outputId": "02a2c7fc-8293-4038-cff9-c305044778f3",
    "scrolled": true
   },
   "outputs": [
    {
     "name": "stderr",
     "output_type": "stream",
     "text": [
      "\n",
      "\n",
      "\n",
      "\n",
      "\n",
      "\n",
      "\n",
      "\n",
      "\n",
      "\n",
      "\n",
      "\n",
      "\n",
      "\n",
      "\n",
      "\n",
      "\n",
      "\n",
      "\n",
      "  0%|                                                                                          | 0/100 [00:00<?, ?it/s]"
     ]
    },
    {
     "name": "stdout",
     "output_type": "stream",
     "text": [
      "[[60516. 48841. 53824.]\n",
      " [60516. 48841. 53824.]\n",
      " [60516. 48841. 53824.]]\n"
     ]
    },
    {
     "name": "stderr",
     "output_type": "stream",
     "text": [
      "D:\\Applications\\Anaconda\\lib\\site-packages\\ipykernel_launcher.py:62: RuntimeWarning: divide by zero encountered in double_scalars\n"
     ]
    },
    {
     "name": "stdout",
     "output_type": "stream",
     "text": [
      "[[51984. 60516. 52900.]\n",
      " [51984. 60516. 52900.]\n",
      " [51984. 60516. 52900.]]\n",
      "[[16384. 17161.   361.]\n",
      " [16384. 17161.   361.]\n",
      " [16384. 17161.   361.]]\n",
      "[[51529. 30625.   100.]\n",
      " [51529. 30625.   100.]\n",
      " [51529. 30625.   100.]]\n",
      "[[51529. 58564. 44944.]\n",
      " [51529. 58564. 44944.]\n",
      " [51529. 58564. 44944.]]\n"
     ]
    },
    {
     "name": "stderr",
     "output_type": "stream",
     "text": [
      "D:\\Applications\\Anaconda\\lib\\site-packages\\ipykernel_launcher.py:7: RuntimeWarning: invalid value encountered in subtract\n",
      "  import sys\n"
     ]
    },
    {
     "name": "stdout",
     "output_type": "stream",
     "text": [
      "[[nan nan nan]\n",
      " [nan nan nan]\n",
      " [nan nan nan]]\n"
     ]
    },
    {
     "ename": "LinAlgError",
     "evalue": "SVD did not converge",
     "output_type": "error",
     "traceback": [
      "\u001b[1;31m---------------------------------------------------------------------------\u001b[0m",
      "\u001b[1;31mLinAlgError\u001b[0m                               Traceback (most recent call last)",
      "\u001b[1;32m<ipython-input-73-381dc484c3bd>\u001b[0m in \u001b[0;36m<module>\u001b[1;34m\u001b[0m\n\u001b[0;32m      9\u001b[0m \u001b[1;33m\u001b[0m\u001b[0m\n\u001b[0;32m     10\u001b[0m \u001b[1;31m# Generate compressed image with 5 colors\u001b[0m\u001b[1;33m\u001b[0m\u001b[1;33m\u001b[0m\u001b[1;33m\u001b[0m\u001b[0m\n\u001b[1;32m---> 11\u001b[1;33m \u001b[0mgmm_image_5\u001b[0m \u001b[1;33m=\u001b[0m \u001b[0mcluster_pixels_gmm\u001b[0m\u001b[1;33m(\u001b[0m\u001b[0mimage\u001b[0m\u001b[1;33m,\u001b[0m \u001b[1;36m5\u001b[0m\u001b[1;33m)\u001b[0m\u001b[1;33m\u001b[0m\u001b[1;33m\u001b[0m\u001b[0m\n\u001b[0m\u001b[0;32m     12\u001b[0m \u001b[0mplot_images\u001b[0m\u001b[1;33m(\u001b[0m\u001b[1;33m[\u001b[0m\u001b[0mimage\u001b[0m\u001b[1;33m,\u001b[0m \u001b[0mgmm_image_5\u001b[0m\u001b[1;33m]\u001b[0m\u001b[1;33m,\u001b[0m \u001b[1;33m[\u001b[0m\u001b[1;34m'origin'\u001b[0m\u001b[1;33m,\u001b[0m \u001b[1;34m'gmm=5'\u001b[0m\u001b[1;33m]\u001b[0m\u001b[1;33m)\u001b[0m\u001b[1;33m\u001b[0m\u001b[1;33m\u001b[0m\u001b[0m\n\u001b[0;32m     13\u001b[0m \u001b[1;33m\u001b[0m\u001b[0m\n",
      "\u001b[1;32m<ipython-input-72-1e655f8d5dfa>\u001b[0m in \u001b[0;36mcluster_pixels_gmm\u001b[1;34m(image, K)\u001b[0m\n\u001b[0;32m     11\u001b[0m     \u001b[0mim_height\u001b[0m\u001b[1;33m,\u001b[0m \u001b[0mim_width\u001b[0m\u001b[1;33m,\u001b[0m \u001b[0mim_channel\u001b[0m \u001b[1;33m=\u001b[0m \u001b[0mimage\u001b[0m\u001b[1;33m.\u001b[0m\u001b[0mshape\u001b[0m\u001b[1;33m\u001b[0m\u001b[1;33m\u001b[0m\u001b[0m\n\u001b[0;32m     12\u001b[0m     \u001b[0mflat_img\u001b[0m \u001b[1;33m=\u001b[0m \u001b[0mnp\u001b[0m\u001b[1;33m.\u001b[0m\u001b[0mreshape\u001b[0m\u001b[1;33m(\u001b[0m\u001b[0mimage\u001b[0m\u001b[1;33m,\u001b[0m \u001b[1;33m[\u001b[0m\u001b[1;33m-\u001b[0m\u001b[1;36m1\u001b[0m\u001b[1;33m,\u001b[0m \u001b[0mim_channel\u001b[0m\u001b[1;33m]\u001b[0m\u001b[1;33m)\u001b[0m\u001b[1;33m.\u001b[0m\u001b[0mastype\u001b[0m\u001b[1;33m(\u001b[0m\u001b[0mnp\u001b[0m\u001b[1;33m.\u001b[0m\u001b[0mfloat32\u001b[0m\u001b[1;33m)\u001b[0m\u001b[1;33m\u001b[0m\u001b[1;33m\u001b[0m\u001b[0m\n\u001b[1;32m---> 13\u001b[1;33m     \u001b[0mgamma\u001b[0m\u001b[1;33m,\u001b[0m \u001b[1;33m(\u001b[0m\u001b[0mpi\u001b[0m\u001b[1;33m,\u001b[0m \u001b[0mmu\u001b[0m\u001b[1;33m,\u001b[0m \u001b[0msigma\u001b[0m\u001b[1;33m)\u001b[0m \u001b[1;33m=\u001b[0m \u001b[0mGMM\u001b[0m\u001b[1;33m(\u001b[0m\u001b[1;33m)\u001b[0m\u001b[1;33m(\u001b[0m\u001b[0mflat_img\u001b[0m\u001b[1;33m,\u001b[0m \u001b[0mK\u001b[0m\u001b[1;33m=\u001b[0m\u001b[0mK\u001b[0m\u001b[1;33m,\u001b[0m \u001b[0mmax_iters\u001b[0m\u001b[1;33m=\u001b[0m\u001b[1;36m100\u001b[0m\u001b[1;33m)\u001b[0m\u001b[1;33m\u001b[0m\u001b[1;33m\u001b[0m\u001b[0m\n\u001b[0m\u001b[0;32m     14\u001b[0m     \u001b[0mcluster_ids\u001b[0m \u001b[1;33m=\u001b[0m \u001b[0mnp\u001b[0m\u001b[1;33m.\u001b[0m\u001b[0margmax\u001b[0m\u001b[1;33m(\u001b[0m\u001b[0mgamma\u001b[0m\u001b[1;33m,\u001b[0m \u001b[0maxis\u001b[0m\u001b[1;33m=\u001b[0m\u001b[1;36m1\u001b[0m\u001b[1;33m)\u001b[0m\u001b[1;33m\u001b[0m\u001b[1;33m\u001b[0m\u001b[0m\n\u001b[0;32m     15\u001b[0m     \u001b[0mcenters\u001b[0m \u001b[1;33m=\u001b[0m \u001b[0mmu\u001b[0m\u001b[1;33m\u001b[0m\u001b[1;33m\u001b[0m\u001b[0m\n",
      "\u001b[1;32m<ipython-input-71-f6a3d2830f9f>\u001b[0m in \u001b[0;36m__call__\u001b[1;34m(self, points, K, max_iters, abs_tol, rel_tol, **kwargs)\u001b[0m\n\u001b[0;32m    149\u001b[0m \u001b[1;33m\u001b[0m\u001b[0m\n\u001b[0;32m    150\u001b[0m             \u001b[1;31m# calculate the negative log-likelihood of observation\u001b[0m\u001b[1;33m\u001b[0m\u001b[1;33m\u001b[0m\u001b[1;33m\u001b[0m\u001b[0m\n\u001b[1;32m--> 151\u001b[1;33m             \u001b[0mjoint_ll\u001b[0m \u001b[1;33m=\u001b[0m \u001b[0mself\u001b[0m\u001b[1;33m.\u001b[0m\u001b[0m_ll_joint\u001b[0m\u001b[1;33m(\u001b[0m\u001b[0mpoints\u001b[0m\u001b[1;33m,\u001b[0m \u001b[0mpi\u001b[0m\u001b[1;33m,\u001b[0m \u001b[0mmu\u001b[0m\u001b[1;33m,\u001b[0m \u001b[0msigma\u001b[0m\u001b[1;33m)\u001b[0m\u001b[1;33m\u001b[0m\u001b[1;33m\u001b[0m\u001b[0m\n\u001b[0m\u001b[0;32m    152\u001b[0m             \u001b[0mloss\u001b[0m \u001b[1;33m=\u001b[0m \u001b[1;33m-\u001b[0m\u001b[0mnp\u001b[0m\u001b[1;33m.\u001b[0m\u001b[0msum\u001b[0m\u001b[1;33m(\u001b[0m\u001b[0mlogsumexp\u001b[0m\u001b[1;33m(\u001b[0m\u001b[0mjoint_ll\u001b[0m\u001b[1;33m)\u001b[0m\u001b[1;33m)\u001b[0m\u001b[1;33m\u001b[0m\u001b[1;33m\u001b[0m\u001b[0m\n\u001b[0;32m    153\u001b[0m             \u001b[1;32mif\u001b[0m \u001b[0mit\u001b[0m\u001b[1;33m:\u001b[0m\u001b[1;33m\u001b[0m\u001b[1;33m\u001b[0m\u001b[0m\n",
      "\u001b[1;32m<ipython-input-71-f6a3d2830f9f>\u001b[0m in \u001b[0;36m_ll_joint\u001b[1;34m(self, points, pi, mu, sigma, **kwargs)\u001b[0m\n\u001b[0;32m     61\u001b[0m             \u001b[0mprint\u001b[0m\u001b[1;33m(\u001b[0m\u001b[0msigma\u001b[0m\u001b[1;33m[\u001b[0m\u001b[0mjj\u001b[0m\u001b[1;33m]\u001b[0m\u001b[1;33m)\u001b[0m\u001b[1;33m\u001b[0m\u001b[1;33m\u001b[0m\u001b[0m\n\u001b[0;32m     62\u001b[0m             \u001b[0mnormalpdf_1\u001b[0m \u001b[1;33m=\u001b[0m \u001b[1;36m1\u001b[0m\u001b[1;33m/\u001b[0m\u001b[1;33m(\u001b[0m\u001b[1;33m(\u001b[0m\u001b[1;36m2\u001b[0m\u001b[1;33m*\u001b[0m\u001b[0mnp\u001b[0m\u001b[1;33m.\u001b[0m\u001b[0mpi\u001b[0m\u001b[1;33m)\u001b[0m\u001b[1;33m**\u001b[0m\u001b[1;33m(\u001b[0m\u001b[1;36m2\u001b[0m\u001b[1;33m/\u001b[0m\u001b[0mD\u001b[0m\u001b[1;33m)\u001b[0m\u001b[1;33m*\u001b[0m\u001b[0mnp\u001b[0m\u001b[1;33m.\u001b[0m\u001b[0msqrt\u001b[0m\u001b[1;33m(\u001b[0m\u001b[0mnp\u001b[0m\u001b[1;33m.\u001b[0m\u001b[0mlinalg\u001b[0m\u001b[1;33m.\u001b[0m\u001b[0mdet\u001b[0m\u001b[1;33m(\u001b[0m\u001b[0msigma\u001b[0m\u001b[1;33m[\u001b[0m\u001b[0mjj\u001b[0m\u001b[1;33m]\u001b[0m\u001b[1;33m)\u001b[0m\u001b[1;33m)\u001b[0m\u001b[1;33m)\u001b[0m\u001b[1;33m\u001b[0m\u001b[1;33m\u001b[0m\u001b[0m\n\u001b[1;32m---> 63\u001b[1;33m             \u001b[0mtemp\u001b[0m \u001b[1;33m=\u001b[0m \u001b[0mnp\u001b[0m\u001b[1;33m.\u001b[0m\u001b[0mmatmul\u001b[0m\u001b[1;33m(\u001b[0m\u001b[1;33m(\u001b[0m\u001b[0mpoints\u001b[0m\u001b[1;33m-\u001b[0m\u001b[0mmu\u001b[0m\u001b[1;33m[\u001b[0m\u001b[0mjj\u001b[0m\u001b[1;33m]\u001b[0m\u001b[1;33m)\u001b[0m\u001b[1;33m,\u001b[0m\u001b[0mnp\u001b[0m\u001b[1;33m.\u001b[0m\u001b[0mlinalg\u001b[0m\u001b[1;33m.\u001b[0m\u001b[0mpinv\u001b[0m\u001b[1;33m(\u001b[0m\u001b[0msigma\u001b[0m\u001b[1;33m[\u001b[0m\u001b[0mjj\u001b[0m\u001b[1;33m]\u001b[0m\u001b[1;33m)\u001b[0m\u001b[1;33m)\u001b[0m\u001b[1;33m\u001b[0m\u001b[1;33m\u001b[0m\u001b[0m\n\u001b[0m\u001b[0;32m     64\u001b[0m             \u001b[0mnormalpdf_2\u001b[0m \u001b[1;33m=\u001b[0m \u001b[1;36m1\u001b[0m\u001b[1;33m-\u001b[0m\u001b[1;36m1\u001b[0m\u001b[1;33m/\u001b[0m\u001b[1;36m2\u001b[0m\u001b[1;33m*\u001b[0m\u001b[1;33m(\u001b[0m\u001b[0mnp\u001b[0m\u001b[1;33m.\u001b[0m\u001b[0meinsum\u001b[0m\u001b[1;33m(\u001b[0m\u001b[1;34m'ij,ji->i'\u001b[0m\u001b[1;33m,\u001b[0m \u001b[0mtemp\u001b[0m\u001b[1;33m,\u001b[0m\u001b[0mnp\u001b[0m\u001b[1;33m.\u001b[0m\u001b[0mtranspose\u001b[0m\u001b[1;33m(\u001b[0m\u001b[0mpoints\u001b[0m\u001b[1;33m-\u001b[0m\u001b[0mmu\u001b[0m\u001b[1;33m[\u001b[0m\u001b[0mjj\u001b[0m\u001b[1;33m]\u001b[0m\u001b[1;33m)\u001b[0m\u001b[1;33m)\u001b[0m\u001b[1;33m)\u001b[0m\u001b[1;33m\u001b[0m\u001b[1;33m\u001b[0m\u001b[0m\n\u001b[0;32m     65\u001b[0m             \u001b[0mll\u001b[0m\u001b[1;33m[\u001b[0m\u001b[1;33m:\u001b[0m\u001b[1;33m,\u001b[0m\u001b[0mjj\u001b[0m\u001b[1;33m]\u001b[0m \u001b[1;33m=\u001b[0m \u001b[0mnp\u001b[0m\u001b[1;33m.\u001b[0m\u001b[0mlog\u001b[0m\u001b[1;33m(\u001b[0m\u001b[0mpi\u001b[0m\u001b[1;33m[\u001b[0m\u001b[0mjj\u001b[0m\u001b[1;33m]\u001b[0m\u001b[1;33m)\u001b[0m \u001b[1;33m+\u001b[0m \u001b[0mnp\u001b[0m\u001b[1;33m.\u001b[0m\u001b[0mlog\u001b[0m\u001b[1;33m(\u001b[0m\u001b[0mnormalpdf_1\u001b[0m\u001b[1;33m)\u001b[0m \u001b[1;33m+\u001b[0m \u001b[0mnormalpdf_2\u001b[0m\u001b[1;33m\u001b[0m\u001b[1;33m\u001b[0m\u001b[0m\n",
      "\u001b[1;32mD:\\Applications\\Anaconda\\lib\\site-packages\\numpy\\linalg\\linalg.py\u001b[0m in \u001b[0;36mpinv\u001b[1;34m(a, rcond)\u001b[0m\n\u001b[0;32m   1936\u001b[0m         \u001b[1;32mreturn\u001b[0m \u001b[0mwrap\u001b[0m\u001b[1;33m(\u001b[0m\u001b[0mres\u001b[0m\u001b[1;33m)\u001b[0m\u001b[1;33m\u001b[0m\u001b[1;33m\u001b[0m\u001b[0m\n\u001b[0;32m   1937\u001b[0m     \u001b[0ma\u001b[0m \u001b[1;33m=\u001b[0m \u001b[0ma\u001b[0m\u001b[1;33m.\u001b[0m\u001b[0mconjugate\u001b[0m\u001b[1;33m(\u001b[0m\u001b[1;33m)\u001b[0m\u001b[1;33m\u001b[0m\u001b[1;33m\u001b[0m\u001b[0m\n\u001b[1;32m-> 1938\u001b[1;33m     \u001b[0mu\u001b[0m\u001b[1;33m,\u001b[0m \u001b[0ms\u001b[0m\u001b[1;33m,\u001b[0m \u001b[0mvt\u001b[0m \u001b[1;33m=\u001b[0m \u001b[0msvd\u001b[0m\u001b[1;33m(\u001b[0m\u001b[0ma\u001b[0m\u001b[1;33m,\u001b[0m \u001b[0mfull_matrices\u001b[0m\u001b[1;33m=\u001b[0m\u001b[1;32mFalse\u001b[0m\u001b[1;33m)\u001b[0m\u001b[1;33m\u001b[0m\u001b[1;33m\u001b[0m\u001b[0m\n\u001b[0m\u001b[0;32m   1939\u001b[0m \u001b[1;33m\u001b[0m\u001b[0m\n\u001b[0;32m   1940\u001b[0m     \u001b[1;31m# discard small singular values\u001b[0m\u001b[1;33m\u001b[0m\u001b[1;33m\u001b[0m\u001b[1;33m\u001b[0m\u001b[0m\n",
      "\u001b[1;32mD:\\Applications\\Anaconda\\lib\\site-packages\\numpy\\linalg\\linalg.py\u001b[0m in \u001b[0;36msvd\u001b[1;34m(a, full_matrices, compute_uv)\u001b[0m\n\u001b[0;32m   1610\u001b[0m \u001b[1;33m\u001b[0m\u001b[0m\n\u001b[0;32m   1611\u001b[0m         \u001b[0msignature\u001b[0m \u001b[1;33m=\u001b[0m \u001b[1;34m'D->DdD'\u001b[0m \u001b[1;32mif\u001b[0m \u001b[0misComplexType\u001b[0m\u001b[1;33m(\u001b[0m\u001b[0mt\u001b[0m\u001b[1;33m)\u001b[0m \u001b[1;32melse\u001b[0m \u001b[1;34m'd->ddd'\u001b[0m\u001b[1;33m\u001b[0m\u001b[1;33m\u001b[0m\u001b[0m\n\u001b[1;32m-> 1612\u001b[1;33m         \u001b[0mu\u001b[0m\u001b[1;33m,\u001b[0m \u001b[0ms\u001b[0m\u001b[1;33m,\u001b[0m \u001b[0mvh\u001b[0m \u001b[1;33m=\u001b[0m \u001b[0mgufunc\u001b[0m\u001b[1;33m(\u001b[0m\u001b[0ma\u001b[0m\u001b[1;33m,\u001b[0m \u001b[0msignature\u001b[0m\u001b[1;33m=\u001b[0m\u001b[0msignature\u001b[0m\u001b[1;33m,\u001b[0m \u001b[0mextobj\u001b[0m\u001b[1;33m=\u001b[0m\u001b[0mextobj\u001b[0m\u001b[1;33m)\u001b[0m\u001b[1;33m\u001b[0m\u001b[1;33m\u001b[0m\u001b[0m\n\u001b[0m\u001b[0;32m   1613\u001b[0m         \u001b[0mu\u001b[0m \u001b[1;33m=\u001b[0m \u001b[0mu\u001b[0m\u001b[1;33m.\u001b[0m\u001b[0mastype\u001b[0m\u001b[1;33m(\u001b[0m\u001b[0mresult_t\u001b[0m\u001b[1;33m,\u001b[0m \u001b[0mcopy\u001b[0m\u001b[1;33m=\u001b[0m\u001b[1;32mFalse\u001b[0m\u001b[1;33m)\u001b[0m\u001b[1;33m\u001b[0m\u001b[1;33m\u001b[0m\u001b[0m\n\u001b[0;32m   1614\u001b[0m         \u001b[0ms\u001b[0m \u001b[1;33m=\u001b[0m \u001b[0ms\u001b[0m\u001b[1;33m.\u001b[0m\u001b[0mastype\u001b[0m\u001b[1;33m(\u001b[0m\u001b[0m_realType\u001b[0m\u001b[1;33m(\u001b[0m\u001b[0mresult_t\u001b[0m\u001b[1;33m)\u001b[0m\u001b[1;33m,\u001b[0m \u001b[0mcopy\u001b[0m\u001b[1;33m=\u001b[0m\u001b[1;32mFalse\u001b[0m\u001b[1;33m)\u001b[0m\u001b[1;33m\u001b[0m\u001b[1;33m\u001b[0m\u001b[0m\n",
      "\u001b[1;32mD:\\Applications\\Anaconda\\lib\\site-packages\\numpy\\linalg\\linalg.py\u001b[0m in \u001b[0;36m_raise_linalgerror_svd_nonconvergence\u001b[1;34m(err, flag)\u001b[0m\n\u001b[0;32m    104\u001b[0m \u001b[1;33m\u001b[0m\u001b[0m\n\u001b[0;32m    105\u001b[0m \u001b[1;32mdef\u001b[0m \u001b[0m_raise_linalgerror_svd_nonconvergence\u001b[0m\u001b[1;33m(\u001b[0m\u001b[0merr\u001b[0m\u001b[1;33m,\u001b[0m \u001b[0mflag\u001b[0m\u001b[1;33m)\u001b[0m\u001b[1;33m:\u001b[0m\u001b[1;33m\u001b[0m\u001b[1;33m\u001b[0m\u001b[0m\n\u001b[1;32m--> 106\u001b[1;33m     \u001b[1;32mraise\u001b[0m \u001b[0mLinAlgError\u001b[0m\u001b[1;33m(\u001b[0m\u001b[1;34m\"SVD did not converge\"\u001b[0m\u001b[1;33m)\u001b[0m\u001b[1;33m\u001b[0m\u001b[1;33m\u001b[0m\u001b[0m\n\u001b[0m\u001b[0;32m    107\u001b[0m \u001b[1;33m\u001b[0m\u001b[0m\n\u001b[0;32m    108\u001b[0m \u001b[1;32mdef\u001b[0m \u001b[0m_raise_linalgerror_lstsq\u001b[0m\u001b[1;33m(\u001b[0m\u001b[0merr\u001b[0m\u001b[1;33m,\u001b[0m \u001b[0mflag\u001b[0m\u001b[1;33m)\u001b[0m\u001b[1;33m:\u001b[0m\u001b[1;33m\u001b[0m\u001b[1;33m\u001b[0m\u001b[0m\n",
      "\u001b[1;31mLinAlgError\u001b[0m: SVD did not converge"
     ]
    }
   ],
   "source": [
    "# helper function for plotting images. You don't have to modify it\n",
    "def plot_images(img_list, title_list, figsize=(11, 6)):\n",
    "    assert len(img_list) == len(title_list)\n",
    "    fig, axes = plt.subplots(1, len(title_list), figsize=figsize)\n",
    "    for i, ax in enumerate(axes):\n",
    "        ax.imshow(img_list[i] / 255.0)\n",
    "        ax.set_title(title_list[i])\n",
    "        ax.axis('off')\n",
    "        \n",
    "# Generate compressed image with 5 colors\n",
    "gmm_image_5 = cluster_pixels_gmm(image, 5)\n",
    "plot_images([image, gmm_image_5], ['origin', 'gmm=5'])\n",
    "\n",
    "# Generate compressed image with 15 colors\n",
    "gmm_image_15 = cluster_pixels_gmm(image, 15)\n",
    "plot_images([image, gmm_image_15], ['origin', 'gmm=15'])"
   ]
  },
  {
   "cell_type": "markdown",
   "metadata": {},
   "source": [
    "### GMM 5 (sample answer) \n",
    "The actual answer might be different depending on covariance matrix type you choose\n",
    "<img src=\"https://www.dropbox.com/s/areaoeh1rax0s06/r5.png?raw=1\" style=\"width:500px;height:200px\"/>"
   ]
  },
  {
   "cell_type": "markdown",
   "metadata": {},
   "source": [
    "### GMM 15  (sample answer) \n",
    "The actual answer might be different depending on covariance matrix type you choose\n",
    "<img src=\"https://www.dropbox.com/s/fgh1imk17uefh1t/r15.png?raw=1\" style=\"width:500px;height:200px\"/>"
   ]
  },
  {
   "cell_type": "markdown",
   "metadata": {
    "colab_type": "text",
    "id": "T3IAXZNgGaHl"
   },
   "source": [
    "## 4 (Bonus for all) Semi-Supervised Learning [20 pts]\n",
    "\n",
    "A material scientist wants to improve the safety of composite Lithium-ion batteries by leveraging data obtained from quality control tests. Being a Georgia Tech graduate (very shmart!), the scientist decides to use machine learning for this task.\n",
    "\n",
    "They order several battery specimens $-$ rated as safe or unsafe for mobile phones $-$ from different manufacturers. The scientist then proceeds to measure the chemical stability, mechanical resistance and charging rate of each specimen.\n",
    "\n",
    "After characterizing specimens offered by one manufacturer, the scientist realizes that the labels $-$ safe or unsafe $-$ are missing for all other specimens.\n",
    "\n",
    "The scientist knows that training a classifier on the few labeled data points would likely lead to overfitting. Therefore, they decide to incorporate the remaining unlabeled data to improve the generalization error of the classifier.\n",
    "\n",
    "Your job is to assist the scientist in implementing a semi-supervised learning framework to perform this task in order to obtain a general classifier.\n",
    "\n",
    "To help you with this task the scientist shares three datasets:\n",
    "* Labeled_materials.txt: containing the material characterization data and corresponding labels (safe = 1 and unsafe = 0);\n",
    "* Unlabeled_materials.txt: containing only the results of the material characterization;\n",
    "* Independent_materials.txt: a labeled dataset the material scientist obtained from a colleague, which you can use to test your model after training.\n",
    "\n",
    "Each row corresponds to the results of a test and it is organized as follows:\n",
    "\n",
    "Chemical stability, mechanical resistance, charging rate, [safe/unsafe]"
   ]
  },
  {
   "cell_type": "markdown",
   "metadata": {
    "colab_type": "text",
    "id": "wJ_esg6lGzyg"
   },
   "source": [
    "### 4.1 Getting acquainted with semi-supervised learning approaches. [5pts]\n",
    "\n",
    "You will implement a version of the algorithm presented in Table 1 of the paper [\"Text Classification from Labeled and Unlabeled Documents using EM\"](http://www.kamalnigam.com/papers/emcat-mlj99.pdf) by Nigam et al. (2000). While you are recommended to read the whole paper this assignment focuses on items 1$-$5.2 and 6.1. Write a brief summary of three interesting highlights of the paper (50-word maximum).\n"
   ]
  },
  {
   "cell_type": "markdown",
   "metadata": {
    "colab_type": "text",
    "id": "KTK4FZpejU5Z"
   },
   "source": [
    "### 4.2 Implementing the EM algorithm. [10 pts]\n",
    "In your implementation of the EM algorithm proposed by Nigam et al. (2000) on Table 1, you will use a Gaussian Naive Bayes (GNB) classifier as opposed to a naive Bayes (NB) classifier. (Hint: Using a GNB in place of an NB will enable you to reuse most of the implementation you developed for GMM in this assignment.)   \n",
    "\n",
    "\n"
   ]
  },
  {
   "cell_type": "code",
   "execution_count": 0,
   "metadata": {
    "colab": {},
    "colab_type": "code",
    "id": "z6tw7JcVjK6N"
   },
   "outputs": [],
   "source": [
    "class SemiSupervised(object):\n",
    "    def __init__(self): # No need to implement\n",
    "        pass\n",
    "        \n",
    "    def _init_components(self, points, K, **kwargs):\n",
    "        \"\"\"\n",
    "        Args:\n",
    "            points: NxD numpy array, the observations\n",
    "            K: number of components\n",
    "            kwargs: any other args you want\n",
    "        Return:\n",
    "            pi: numpy array of length K, prior\n",
    "            mu: KxD numpy array, the center for each gaussian. \n",
    "            sigma: KxD numpy array, the diagonal standard deviation of each gaussian.\n",
    "            \n",
    "        Hint: The paper describes how you should initialize your algorithm.\n",
    "        \"\"\"\n",
    "        raise NotImplementedError\n",
    "\n",
    "    def _ll_joint(self, points, pi, mu, sigma, **kwargs):\n",
    "        \"\"\"\n",
    "        Args:\n",
    "            points: NxD numpy array, the observations\n",
    "            pi: np array of length K, the prior of each component\n",
    "            mu: KxD numpy array, the center for each gaussian. \n",
    "            sigma: KxD numpy array, the diagonal standard deviation of each gaussian.\n",
    "        Return:\n",
    "            ll(log-likelihood): NxK array, where ll(i, j) = log pi(j) + log NormalPDF(points_i | mu[j], sigma[j])\n",
    "            \n",
    "        Hint: Assume that the three properties of the lithium-ion batteries (multivariate gaussian) are independent.  \n",
    "              This allows you to treat it as a product of univariate gaussians.\n",
    "        \"\"\"\n",
    "        raise NotImplementedError\n",
    "\n",
    "    def _E_step(self, points, pi, mu, sigma, **kwargs):\n",
    "        \"\"\"\n",
    "        Args:\n",
    "            points: NxD numpy array, the observations\n",
    "            pi: np array of length K, the prior of each component\n",
    "            mu: KxD numpy array, the center for each gaussian. \n",
    "            sigma: KxD numpy array, the diagonal standard deviation of each gaussian.\n",
    "        Return:\n",
    "            gamma: NxK array, the posterior distribution (a.k.a, the soft cluster assignment) for each observation.\n",
    "            \n",
    "        Hint: You should be able to do this with just a few lines of code by using _ll_joint() and softmax() defined above. \n",
    "        \"\"\"\n",
    "        raise NotImplementedError\n",
    "\n",
    "    def _M_step(self, points, gamma, **kwargs):\n",
    "        \"\"\"\n",
    "        Args:\n",
    "            points: NxD numpy array, the observations\n",
    "            gamma: NxK array, the posterior distribution (a.k.a, the soft cluster assignment) for each observation.\n",
    "        Return:\n",
    "            pi: np array of length K, the prior of each component\n",
    "            mu: KxD numpy array, the center for each gaussian. \n",
    "            sigma: KxD numpy array, the diagonal standard deviation of each gaussian. \n",
    "            \n",
    "        Hint:  There are formulas in the slide.\n",
    "        \"\"\"\n",
    "        raise NotImplementedError\n",
    "\n",
    "    def __call__(self, points, K, max_iters=100, abs_tol=1e-16, rel_tol=1e-16, **kwargs):\n",
    "        \"\"\"\n",
    "        Args:\n",
    "            points: NxD numpy array, where N is # points and D is the dimensionality\n",
    "            K: number of clusters\n",
    "            max_iters: maximum number of iterations\n",
    "            abs_tol: convergence criteria w.r.t absolute change of loss\n",
    "            rel_tol: convergence criteria w.r.t relative change of loss\n",
    "            kwargs: any additional arguments you want\n",
    "        Return:\n",
    "            gamma: NxK array, the posterior distribution (a.k.a, the soft cluster assignment) for each observation.\n",
    "            (pi, mu, sigma): (1xK np array, KxD numpy array, KxD numpy array), mu and sigma.\n",
    "         \n",
    "        \"\"\"        \n",
    "        raise NotImplementedError"
   ]
  },
  {
   "cell_type": "markdown",
   "metadata": {
    "colab_type": "text",
    "id": "Qlb7C2UEjNGU"
   },
   "source": [
    "### 4.3 Demonstrating the performance of the algorithm. [5pts]\n",
    "Compare the classification error based on the Gaussian Naive Bayes (GNB) classifier you implemented following the Nigam et al. (2000) approach to the performance of a GNB classifier trained using only labeled. Since you have not covered supervised learning in class, you are allowed to use the scikit learn library for training the GNB classifier based only on labeled data: https://scikit-learn.org/stable/modules/generated/sklearn.naive_bayes.GaussianNB.html."
   ]
  },
  {
   "cell_type": "code",
   "execution_count": 0,
   "metadata": {
    "colab": {},
    "colab_type": "code",
    "id": "l24JU9MHeID5"
   },
   "outputs": [],
   "source": [
    "# your implementation of the scikit learn GNB goes here"
   ]
  }
 ],
 "metadata": {
  "colab": {
   "collapsed_sections": [],
   "name": "spring20_HW2_template.ipynb",
   "provenance": []
  },
  "kernelspec": {
   "display_name": "Python 3",
   "language": "python",
   "name": "python3"
  },
  "language_info": {
   "codemirror_mode": {
    "name": "ipython",
    "version": 3
   },
   "file_extension": ".py",
   "mimetype": "text/x-python",
   "name": "python",
   "nbconvert_exporter": "python",
   "pygments_lexer": "ipython3",
   "version": "3.7.4"
  }
 },
 "nbformat": 4,
 "nbformat_minor": 1
}
