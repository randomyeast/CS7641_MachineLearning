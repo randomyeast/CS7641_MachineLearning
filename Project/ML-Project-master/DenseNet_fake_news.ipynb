{
  "nbformat": 4,
  "nbformat_minor": 0,
  "metadata": {
    "colab": {
      "name": "DenseNet fake news.ipynb",
      "provenance": [],
      "collapsed_sections": [],
      "toc_visible": true
    },
    "kernelspec": {
      "name": "python3",
      "display_name": "Python 3"
    },
    "accelerator": "GPU"
  },
  "cells": [
    {
      "cell_type": "code",
      "metadata": {
        "id": "Q8bCvFAbdncP",
        "colab_type": "code",
        "outputId": "277287eb-8775-4ce8-9777-7027336beff7",
        "colab": {
          "base_uri": "https://localhost:8080/",
          "height": 272
        }
      },
      "source": [
        "!pip install scikit-plot"
      ],
      "execution_count": 0,
      "outputs": [
        {
          "output_type": "stream",
          "text": [
            "Collecting scikit-plot\n",
            "  Downloading https://files.pythonhosted.org/packages/7c/47/32520e259340c140a4ad27c1b97050dd3254fdc517b1d59974d47037510e/scikit_plot-0.3.7-py3-none-any.whl\n",
            "Requirement already satisfied: scikit-learn>=0.18 in /usr/local/lib/python3.6/dist-packages (from scikit-plot) (0.22.2.post1)\n",
            "Requirement already satisfied: joblib>=0.10 in /usr/local/lib/python3.6/dist-packages (from scikit-plot) (0.14.1)\n",
            "Requirement already satisfied: matplotlib>=1.4.0 in /usr/local/lib/python3.6/dist-packages (from scikit-plot) (3.2.1)\n",
            "Requirement already satisfied: scipy>=0.9 in /usr/local/lib/python3.6/dist-packages (from scikit-plot) (1.4.1)\n",
            "Requirement already satisfied: numpy>=1.11.0 in /usr/local/lib/python3.6/dist-packages (from scikit-learn>=0.18->scikit-plot) (1.18.2)\n",
            "Requirement already satisfied: pyparsing!=2.0.4,!=2.1.2,!=2.1.6,>=2.0.1 in /usr/local/lib/python3.6/dist-packages (from matplotlib>=1.4.0->scikit-plot) (2.4.7)\n",
            "Requirement already satisfied: python-dateutil>=2.1 in /usr/local/lib/python3.6/dist-packages (from matplotlib>=1.4.0->scikit-plot) (2.8.1)\n",
            "Requirement already satisfied: cycler>=0.10 in /usr/local/lib/python3.6/dist-packages (from matplotlib>=1.4.0->scikit-plot) (0.10.0)\n",
            "Requirement already satisfied: kiwisolver>=1.0.1 in /usr/local/lib/python3.6/dist-packages (from matplotlib>=1.4.0->scikit-plot) (1.2.0)\n",
            "Requirement already satisfied: six>=1.5 in /usr/local/lib/python3.6/dist-packages (from python-dateutil>=2.1->matplotlib>=1.4.0->scikit-plot) (1.12.0)\n",
            "Installing collected packages: scikit-plot\n",
            "Successfully installed scikit-plot-0.3.7\n"
          ],
          "name": "stdout"
        }
      ]
    },
    {
      "cell_type": "code",
      "metadata": {
        "id": "1cSwz4KlSlXL",
        "colab_type": "code",
        "colab": {}
      },
      "source": [
        "import random\n",
        "import numpy as np\n",
        "import torch\n",
        "import torchvision\n",
        "from  torch.autograd import Variable\n",
        "import torch.nn as nn\n",
        "import torch.nn.functional as F\n",
        "import torch.optim as optim\n",
        "from  torchvision import datasets, transforms\n",
        "from torchsummary import summary\n",
        "import os\n",
        "import skimage"
      ],
      "execution_count": 0,
      "outputs": []
    },
    {
      "cell_type": "code",
      "metadata": {
        "id": "RNUaMFmEcKO0",
        "colab_type": "code",
        "colab": {}
      },
      "source": [
        "import re\n",
        "import string\n",
        "import pandas as pd\n",
        "import matplotlib.pyplot as plt\n",
        "import scikitplot.plotters as skplt\n",
        "from gensim.models import Doc2Vec\n",
        "from gensim.models.doc2vec import TaggedDocument\n",
        "from gensim import utils\n",
        "from nltk.corpus import stopwords"
      ],
      "execution_count": 0,
      "outputs": []
    },
    {
      "cell_type": "code",
      "metadata": {
        "id": "Sz3ne69xUKOB",
        "colab_type": "code",
        "colab": {}
      },
      "source": [
        "import warnings\n",
        "warnings.filterwarnings(\"ignore\")"
      ],
      "execution_count": 0,
      "outputs": []
    },
    {
      "cell_type": "code",
      "metadata": {
        "id": "Q-227d4kcHZu",
        "colab_type": "code",
        "colab": {}
      },
      "source": [
        "def plot_cmat(yte, ypred):\n",
        "    '''Plotting confusion matrix'''\n",
        "    skplt.plot_confusion_matrix(yte,ypred,normalize=False)\n",
        "    plt.show()"
      ],
      "execution_count": 0,
      "outputs": []
    },
    {
      "cell_type": "code",
      "metadata": {
        "id": "eV0M29WpDeCW",
        "colab_type": "code",
        "colab": {}
      },
      "source": [
        "class nn_Fake_News(nn.Module):\n",
        "  def __init__(self):\n",
        "    super(nn_Fake_News, self).__init__()\n",
        "    self.nn_forward = nn.Sequential(\n",
        "        nn.Linear(300, 256),\n",
        "        nn.ReLU(),\n",
        "        nn.Dropout(0.0),\n",
        "        nn.Linear(256, 80),\n",
        "        nn.ReLU(),\n",
        "        nn.Dropout(0.0),\n",
        "        nn.Linear(80, 2),\n",
        "    )\n",
        "\n",
        "  def forward(self, input):\n",
        "    return self.nn_forward(input)\n"
      ],
      "execution_count": 0,
      "outputs": []
    },
    {
      "cell_type": "code",
      "metadata": {
        "id": "QQOcmaTtppF9",
        "colab_type": "code",
        "colab": {}
      },
      "source": [
        "xtr = np.load('./xtr.npy')\n",
        "xte = np.load('./xte.npy')\n",
        "ytr = np.load('./ytr.npy')\n",
        "yte = np.load('./yte.npy')\n",
        "\n",
        "tr_label = np.zeros((xtr.shape[0], 2), dtype=float)\n",
        "for i in range(xtr.shape[0]):\n",
        "  if ytr[i] == 1:\n",
        "    tr_label[i, :] = [0.0, 1.0]\n",
        "  else:\n",
        "    tr_label[i, :] = [1.0, 0.0]\n",
        "tr_label = torch.from_numpy(tr_label).type(torch.DoubleTensor).cuda()"
      ],
      "execution_count": 0,
      "outputs": []
    },
    {
      "cell_type": "code",
      "metadata": {
        "id": "NEOTdZ56rLF9",
        "colab_type": "code",
        "outputId": "9739ec7f-5385-4eed-e242-69950191b24f",
        "colab": {
          "base_uri": "https://localhost:8080/",
          "height": 399
        }
      },
      "source": [
        "nn_FN = nn_Fake_News().double().cuda()\n",
        "optimizer = optim.SGD(nn_FN.parameters(), lr=0.01, momentum=0.9)\n",
        "\n",
        "loss_function = nn.BCEWithLogitsLoss()\n",
        "\n",
        "for epoch in range(1000):  \n",
        "  y_pred = nn_FN(torch.from_numpy(xtr).cuda())\n",
        "\n",
        "  optimizer.zero_grad()\n",
        "  loss = loss_function(y_pred, tr_label.detach())\n",
        "  \n",
        "  loss.backward()\n",
        "  optimizer.step()        \n",
        "\n",
        "  #print(\"Loss = %.5f\" % loss.item()) \n",
        "  if (epoch%100==0):\n",
        "    print(\"Epoch %d\" % epoch)\n",
        "    print(\"Loss = %.5f\" % loss.item()) \n",
        "    torch.save(nn_FN, 'nn_Fake_News.pkl')\n",
        "\n",
        "print('Finished Training')"
      ],
      "execution_count": 0,
      "outputs": [
        {
          "output_type": "stream",
          "text": [
            "Epoch 0\n",
            "Loss = 0.69189\n",
            "Epoch 100\n",
            "Loss = 0.57302\n",
            "Epoch 200\n",
            "Loss = 0.26376\n",
            "Epoch 300\n",
            "Loss = 0.21726\n",
            "Epoch 400\n",
            "Loss = 0.19644\n",
            "Epoch 500\n",
            "Loss = 0.18323\n",
            "Epoch 600\n",
            "Loss = 0.17394\n",
            "Epoch 700\n",
            "Loss = 0.16693\n",
            "Epoch 800\n",
            "Loss = 0.16123\n",
            "Epoch 900\n",
            "Loss = 0.15634\n",
            "Finished Training\n"
          ],
          "name": "stdout"
        }
      ]
    },
    {
      "cell_type": "code",
      "metadata": {
        "id": "N2vlArY-vsPc",
        "colab_type": "code",
        "outputId": "1c681a8a-8b20-4695-e44f-00ba359e585c",
        "colab": {
          "base_uri": "https://localhost:8080/",
          "height": 313
        }
      },
      "source": [
        "y_pred_raw = nn_FN(torch.from_numpy(xte).cuda())\n",
        "y_pred = np.zeros(y_pred_raw.shape[0])\n",
        "for i in range(y_pred_raw.shape[0]):\n",
        "    if y_pred_raw[i, 1] > y_pred_raw[i, 0]:\n",
        "      y_pred[i] = 1\n",
        "    else:\n",
        "      y_pred[i] = 0\n",
        "\n",
        "m = yte.shape[0]\n",
        "n = (yte != y_pred).sum()\n",
        "print(\"Accuracy = \" + format((m-n)/m*100, '.2f') + \"%\")   # 72.94%\n",
        "\n",
        "# Draw the confusion matrix\n",
        "plot_cmat(yte, y_pred)"
      ],
      "execution_count": 0,
      "outputs": [
        {
          "output_type": "stream",
          "text": [
            "Accuracy = 93.81%\n"
          ],
          "name": "stdout"
        },
        {
          "output_type": "display_data",
          "data": {
            "image/png": "[encoded data removed]",
            "text/plain": [
              "<Figure size 432x288 with 2 Axes>"
            ]
          },
          "metadata": {
            "tags": [],
            "needs_background": "light"
          }
        }
      ]
    }
  ]
}