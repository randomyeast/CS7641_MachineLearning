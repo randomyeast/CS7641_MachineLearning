{
  "nbformat": 4,
  "nbformat_minor": 0,
  "metadata": {
    "colab": {
      "name": "Unsupervised_Fake_News.ipynb",
      "provenance": [],
      "collapsed_sections": [],
      "toc_visible": true
    },
    "kernelspec": {
      "name": "python3",
      "display_name": "Python 3"
    }
  },
  "cells": [
    {
      "cell_type": "code",
      "metadata": {
        "id": "biCstc5wI5wz",
        "colab_type": "code",
        "outputId": "6044d264-af8b-431f-d2cd-6d5d301ad9be",
        "colab": {
          "base_uri": "https://localhost:8080/",
          "height": 272
        }
      },
      "source": [
        "!pip install scikit-plot"
      ],
      "execution_count": 0,
      "outputs": [
        {
          "output_type": "stream",
          "text": [
            "Collecting scikit-plot\n",
            "  Downloading https://files.pythonhosted.org/packages/7c/47/32520e259340c140a4ad27c1b97050dd3254fdc517b1d59974d47037510e/scikit_plot-0.3.7-py3-none-any.whl\n",
            "Requirement already satisfied: joblib>=0.10 in /usr/local/lib/python3.6/dist-packages (from scikit-plot) (0.14.1)\n",
            "Requirement already satisfied: scipy>=0.9 in /usr/local/lib/python3.6/dist-packages (from scikit-plot) (1.4.1)\n",
            "Requirement already satisfied: matplotlib>=1.4.0 in /usr/local/lib/python3.6/dist-packages (from scikit-plot) (3.2.1)\n",
            "Requirement already satisfied: scikit-learn>=0.18 in /usr/local/lib/python3.6/dist-packages (from scikit-plot) (0.22.2.post1)\n",
            "Requirement already satisfied: numpy>=1.13.3 in /usr/local/lib/python3.6/dist-packages (from scipy>=0.9->scikit-plot) (1.18.2)\n",
            "Requirement already satisfied: pyparsing!=2.0.4,!=2.1.2,!=2.1.6,>=2.0.1 in /usr/local/lib/python3.6/dist-packages (from matplotlib>=1.4.0->scikit-plot) (2.4.7)\n",
            "Requirement already satisfied: cycler>=0.10 in /usr/local/lib/python3.6/dist-packages (from matplotlib>=1.4.0->scikit-plot) (0.10.0)\n",
            "Requirement already satisfied: kiwisolver>=1.0.1 in /usr/local/lib/python3.6/dist-packages (from matplotlib>=1.4.0->scikit-plot) (1.2.0)\n",
            "Requirement already satisfied: python-dateutil>=2.1 in /usr/local/lib/python3.6/dist-packages (from matplotlib>=1.4.0->scikit-plot) (2.8.1)\n",
            "Requirement already satisfied: six in /usr/local/lib/python3.6/dist-packages (from cycler>=0.10->matplotlib>=1.4.0->scikit-plot) (1.12.0)\n",
            "Installing collected packages: scikit-plot\n",
            "Successfully installed scikit-plot-0.3.7\n"
          ],
          "name": "stdout"
        }
      ]
    },
    {
      "cell_type": "code",
      "metadata": {
        "id": "DSdreu_y6XV3",
        "colab_type": "code",
        "colab": {}
      },
      "source": [
        "import numpy as np\n",
        "import re\n",
        "import string\n",
        "import pandas as pd\n",
        "import numpy as np\n",
        "import matplotlib.pyplot as plt\n",
        "import scikitplot.plotters as skplt\n",
        "import os\n",
        "from gensim.models import Doc2Vec\n",
        "from gensim.models.doc2vec import TaggedDocument\n",
        "from gensim import utils\n",
        "from nltk.corpus import stopwords\n",
        "from sklearn.naive_bayes import BernoulliNB\n",
        "from sklearn.svm import LinearSVC"
      ],
      "execution_count": 0,
      "outputs": []
    },
    {
      "cell_type": "code",
      "metadata": {
        "id": "4it53RaiiPip",
        "colab_type": "code",
        "colab": {}
      },
      "source": [
        "def clean_data():\n",
        "    \"\"\"\n",
        "    Generate processed string\n",
        "    \"\"\"\n",
        "    path = 'train.csv'\n",
        "    vector_dimension=300\n",
        "\n",
        "    data = pd.read_csv(path)\n",
        "\n",
        "    missing_rows = []\n",
        "    for i in range(len(data)):\n",
        "        if data.loc[i, 'text'] != data.loc[i, 'text']:\n",
        "            missing_rows.append(i)\n",
        "    data = data.drop(missing_rows).reset_index().drop(['index','id'],axis=1)\n",
        "\n",
        "    for i in range(len(data)):\n",
        "        data.loc[i, 'text'] = clean_up_text(data.loc[i,'text'])\n",
        "\n",
        "    data = data.sample(frac=1).reset_index(drop=True)\n",
        "\n",
        "    x = data.loc[:,'text'].values\n",
        "    y = data.loc[:,'label'].values\n",
        "\n",
        "    train_size = int(0.8 * len(y))\n",
        "    test_size = len(x) - train_size\n",
        "\n",
        "    xtr = x[:train_size]\n",
        "    xte = x[train_size:]\n",
        "    ytr = y[:train_size]\n",
        "    yte = y[train_size:]\n",
        "\n",
        "    np.save('xtr_shuffled.npy',xtr)\n",
        "    np.save('xte_shuffled.npy',xte)\n",
        "    np.save('ytr_shuffled.npy',ytr)\n",
        "    np.save('yte_shuffled.npy',yte)"
      ],
      "execution_count": 0,
      "outputs": []
    },
    {
      "cell_type": "code",
      "metadata": {
        "id": "Yl6lJ1suinM5",
        "colab_type": "code",
        "colab": {}
      },
      "source": [
        "def remove_stop_words(text):\n",
        "    text = re.sub(r\"[^A-Za-z0-9^,!.\\/'+-=]\", \" \", text)\n",
        "    text = text.lower().split()\n",
        "    stops = set(stopwords.words(\"english\"))\n",
        "    text = [w for w in text if not w in stops]\n",
        "    text = \" \".join(text)\n",
        "    return (text)"
      ],
      "execution_count": 0,
      "outputs": []
    },
    {
      "cell_type": "code",
      "metadata": {
        "id": "qThjWGGV6Fh4",
        "colab_type": "code",
        "colab": {}
      },
      "source": [
        "def clean_up_text(text):\n",
        "#    text = remove_stop_words(text)\n",
        "    text = text.translate(str.maketrans(\"\", \"\", string.punctuation))\n",
        "    return text"
      ],
      "execution_count": 0,
      "outputs": []
    },
    {
      "cell_type": "code",
      "metadata": {
        "id": "ZIwHxqGM6JfB",
        "colab_type": "code",
        "colab": {}
      },
      "source": [
        "def construct_labeled_sentences(data):\n",
        "    sentences = []\n",
        "    for index, row in data.iteritems():\n",
        "        sentences.append(TaggedDocument(utils.to_unicode(row).split(), ['Text' + '_%s' % str(index)]))\n",
        "    return sentences"
      ],
      "execution_count": 0,
      "outputs": []
    },
    {
      "cell_type": "code",
      "metadata": {
        "id": "DdDJyJ4W6L7e",
        "colab_type": "code",
        "colab": {}
      },
      "source": [
        "def get_word_embeddings(path,vector_dimension=300):\n",
        "    data = pd.read_csv(path,engine=\"python\")\n",
        "\n",
        "    missing_rows = []\n",
        "    for i in range(len(data)):\n",
        "        if data.loc[i, 'text'] != data.loc[i, 'text']:\n",
        "            missing_rows.append(i)\n",
        "    data = data.drop(missing_rows).reset_index().drop(['index','id'],axis=1)\n",
        "\n",
        "    for i in range(len(data)):\n",
        "        data.loc[i, 'text'] = clean_up_text(data.loc[i,'text'])\n",
        "\n",
        "    x = construct_labeled_sentences(data['text'])\n",
        "    y = data['label'].values\n",
        "\n",
        "    text_model = Doc2Vec(min_count=1, window=5, vector_size=vector_dimension, sample=1e-4, negative=5, workers=7, epochs=10,\n",
        "                         seed=1)\n",
        "    text_model.build_vocab(x)\n",
        "    text_model.train(x, total_examples=text_model.corpus_count, epochs=text_model.epochs)\n",
        "\n",
        "    train_size = int(0.8 * len(x))\n",
        "    test_size = len(x) - train_size\n",
        "\n",
        "    xtrain = np.zeros((train_size, vector_dimension))\n",
        "    xtest = np.zeros((test_size, vector_dimension))\n",
        "    ytrain = np.zeros(train_size)\n",
        "    ytest = np.zeros(test_size)\n",
        "\n",
        "    for i in range(train_size):\n",
        "        xtrain[i] = text_model.docvecs['Text_' + str(i)]\n",
        "        ytrain[i] = y[i]\n",
        "\n",
        "    j = 0\n",
        "    for i in range(train_size, train_size + test_size):\n",
        "        xtest[j] = text_model.docvecs['Text_' + str(i)]\n",
        "        ytest[j] = y[i]\n",
        "        j = j + 1\n",
        "\n",
        "    return xtrain, xtest, ytrain, ytest"
      ],
      "execution_count": 0,
      "outputs": []
    },
    {
      "cell_type": "code",
      "metadata": {
        "id": "Ircsj7lfhZVH",
        "colab_type": "code",
        "colab": {}
      },
      "source": [
        "def clean_data():\n",
        "    \"\"\"\n",
        "    Generate processed string\n",
        "    \"\"\"\n",
        "    path = 'train.csv'\n",
        "    vector_dimension=300\n",
        "\n",
        "    data = pd.read_csv(path)\n",
        "\n",
        "    missing_rows = []\n",
        "    for i in range(len(data)):\n",
        "        if data.loc[i, 'text'] != data.loc[i, 'text']:\n",
        "            missing_rows.append(i)\n",
        "    data = data.drop(missing_rows).reset_index().drop(['index','id'],axis=1)\n",
        "\n",
        "    for i in range(len(data)):\n",
        "        data.loc[i, 'text'] = clean_up_text(data.loc[i,'text'])\n",
        "\n",
        "    data = data.sample(frac=1).reset_index(drop=True)\n",
        "\n",
        "    x = data.loc[:,'text'].values\n",
        "    y = data.loc[:,'label'].values\n",
        "\n",
        "    train_size = int(0.8 * len(y))\n",
        "    test_size = len(x) - train_size\n",
        "\n",
        "    xtr = x[:train_size]\n",
        "    xte = x[train_size:]\n",
        "    ytr = y[:train_size]\n",
        "    yte = y[train_size:]\n",
        "\n",
        "    np.save('xtr_shuffled.npy',xtr)\n",
        "    np.save('xte_shuffled.npy',xte)\n",
        "    np.save('ytr_shuffled.npy',ytr)\n",
        "    np.save('yte_shuffled.npy',yte)"
      ],
      "execution_count": 0,
      "outputs": []
    },
    {
      "cell_type": "code",
      "metadata": {
        "id": "F_U-O9z86Oof",
        "colab_type": "code",
        "colab": {}
      },
      "source": [
        "def plot_cmat(yte, ypred):\n",
        "    '''Plotting confusion matrix'''\n",
        "    skplt.plot_confusion_matrix(yte,ypred,normalize=False)\n",
        "    plt.show()"
      ],
      "execution_count": 0,
      "outputs": []
    },
    {
      "cell_type": "code",
      "metadata": {
        "id": "LqVAzqzB6RV1",
        "colab_type": "code",
        "outputId": "96a78f5f-4dea-46db-b141-d18fbb9ab3b7",
        "colab": {
          "base_uri": "https://localhost:8080/",
          "height": 369
        }
      },
      "source": [
        "import csv\n",
        "csv.field_size_limit(500 * 1024 * 1024)\n",
        "if not (os.path.isfile('./xtr.npy') and os.path.isfile('./xte.npy') and os.path.isfile('./ytr.npy') and os.path.isfile('./yte.npy')):\n",
        "    xtr,xte,ytr,yte = get_word_embeddings('train.csv')\n",
        "    np.save('./xtr', xtr)\n",
        "    np.save('./xte', xte)\n",
        "    np.save('./ytr', ytr)\n",
        "    np.save('./yte', yte)\n",
        "\n",
        "xtr = np.load('./xtr.npy')\n",
        "xte = np.load('./xte.npy')\n",
        "ytr = np.load('./ytr.npy')\n",
        "yte = np.load('./yte.npy')\n",
        "\n",
        "bnb = BernoulliNB()\n",
        "bnb.fit(xtr,ytr)\n",
        "y_pred = bnb.predict(xte)\n",
        "m = yte.shape[0]\n",
        "n = (yte != y_pred).sum()\n",
        "print(\"Naive Bayes Accuracy = \" + format((m-n)/m*100, '.2f') + \"%\")\n",
        "\n",
        "# Draw the confusion matrix\n",
        "plot_cmat(yte, y_pred)"
      ],
      "execution_count": 0,
      "outputs": [
        {
          "output_type": "stream",
          "text": [
            "Naive Bayes Accuracy = 85.26%\n"
          ],
          "name": "stdout"
        },
        {
          "output_type": "stream",
          "text": [
            "/usr/local/lib/python3.6/dist-packages/sklearn/utils/deprecation.py:87: FutureWarning: Function plot_confusion_matrix is deprecated; This will be removed in v0.4.0. Please use scikitplot.metrics.plot_confusion_matrix instead.\n",
            "  warnings.warn(msg, category=FutureWarning)\n"
          ],
          "name": "stderr"
        },
        {
          "output_type": "display_data",
          "data": {
            "image/png": "[encoded data removed]",
            "text/plain": [
              "<Figure size 432x288 with 2 Axes>"
            ]
          },
          "metadata": {
            "tags": [],
            "needs_background": "light"
          }
        }
      ]
    },
    {
      "cell_type": "code",
      "metadata": {
        "id": "x0v3nNytREZl",
        "colab_type": "code",
        "outputId": "2b5d9897-6882-44b2-ec05-b6720269c44b",
        "colab": {
          "base_uri": "https://localhost:8080/",
          "height": 405
        }
      },
      "source": [
        "clf = LinearSVC ()\n",
        "clf.fit(xtr, ytr)\n",
        "y_pred = clf.predict(xte)\n",
        "m = yte.shape[0]\n",
        "n = (yte != y_pred).sum()\n",
        "print(\"SVM Accuracy = \" + format((m-n)/m*100, '.2f') + \"%\")\n",
        "\n",
        "# Draw the confusion matrix\n",
        "plot_cmat(yte, y_pred)"
      ],
      "execution_count": 0,
      "outputs": [
        {
          "output_type": "stream",
          "text": [
            "SVM Accuracy = 93.43%\n"
          ],
          "name": "stdout"
        },
        {
          "output_type": "stream",
          "text": [
            "/usr/local/lib/python3.6/dist-packages/sklearn/svm/_base.py:947: ConvergenceWarning: Liblinear failed to converge, increase the number of iterations.\n",
            "  \"the number of iterations.\", ConvergenceWarning)\n",
            "/usr/local/lib/python3.6/dist-packages/sklearn/utils/deprecation.py:87: FutureWarning: Function plot_confusion_matrix is deprecated; This will be removed in v0.4.0. Please use scikitplot.metrics.plot_confusion_matrix instead.\n",
            "  warnings.warn(msg, category=FutureWarning)\n"
          ],
          "name": "stderr"
        },
        {
          "output_type": "display_data",
          "data": {
            "image/png": "[encoded data removed]",
            "text/plain": [
              "<Figure size 432x288 with 2 Axes>"
            ]
          },
          "metadata": {
            "tags": [],
            "needs_background": "light"
          }
        }
      ]
    },
    {
      "cell_type": "code",
      "metadata": {
        "id": "6RI2vUKqjKDw",
        "colab_type": "code",
        "outputId": "be04b931-1ac5-4dd0-80e3-bb0da0d55af2",
        "colab": {
          "base_uri": "https://localhost:8080/",
          "height": 369
        }
      },
      "source": [
        "from sklearn.naive_bayes import GaussianNB\n",
        "# Use the built-in Naive Bayes classifier\n",
        "gnb = GaussianNB()\n",
        "gnb.fit(xtr,ytr)\n",
        "y_pred = gnb.predict(xte)\n",
        "m = yte.shape[0]\n",
        "n = (yte != y_pred).sum()\n",
        "print(\"Accuracy = \" + format((m-n)/m*100, '.2f') + \"%\")   # 72.94%\n",
        "\n",
        "# Draw the confusion matrix\n",
        "plot_cmat(yte, y_pred)"
      ],
      "execution_count": 0,
      "outputs": [
        {
          "output_type": "stream",
          "text": [
            "Accuracy = 76.52%\n"
          ],
          "name": "stdout"
        },
        {
          "output_type": "stream",
          "text": [
            "/usr/local/lib/python3.6/dist-packages/sklearn/utils/deprecation.py:87: FutureWarning: Function plot_confusion_matrix is deprecated; This will be removed in v0.4.0. Please use scikitplot.metrics.plot_confusion_matrix instead.\n",
            "  warnings.warn(msg, category=FutureWarning)\n"
          ],
          "name": "stderr"
        },
        {
          "output_type": "display_data",
          "data": {
            "image/png": "[encoded data removed]",
            "text/plain": [
              "<Figure size 432x288 with 2 Axes>"
            ]
          },
          "metadata": {
            "tags": [],
            "needs_background": "light"
          }
        }
      ]
    },
    {
      "cell_type": "code",
      "metadata": {
        "id": "ixm5Bano-qSx",
        "colab_type": "code",
        "outputId": "99552ac9-17a4-41f2-bf69-f5171f0609f9",
        "colab": {
          "base_uri": "https://localhost:8080/",
          "height": 369
        }
      },
      "source": [
        "from sklearn.cluster import KMeans\n",
        "\n",
        "kmeans = KMeans(n_clusters=2).fit(xtr)\n",
        "y_pred = kmeans.predict(xte)\n",
        "\n",
        "m = yte.shape[0]\n",
        "n = (yte != y_pred).sum()\n",
        "print(\"Accuracy = \" + format((m-n)/m*100, '.2f') + \"%\")\n",
        "\n",
        "# Draw the confusion matrix\n",
        "plot_cmat(yte, y_pred)"
      ],
      "execution_count": 0,
      "outputs": [
        {
          "output_type": "stream",
          "text": [
            "Accuracy = 56.42%\n"
          ],
          "name": "stdout"
        },
        {
          "output_type": "stream",
          "text": [
            "/usr/local/lib/python3.6/dist-packages/sklearn/utils/deprecation.py:87: FutureWarning: Function plot_confusion_matrix is deprecated; This will be removed in v0.4.0. Please use scikitplot.metrics.plot_confusion_matrix instead.\n",
            "  warnings.warn(msg, category=FutureWarning)\n"
          ],
          "name": "stderr"
        },
        {
          "output_type": "display_data",
          "data": {
            "image/png": "[encoded data removed]",
            "text/plain": [
              "<Figure size 432x288 with 2 Axes>"
            ]
          },
          "metadata": {
            "tags": [],
            "needs_background": "light"
          }
        }
      ]
    },
    {
      "cell_type": "code",
      "metadata": {
        "id": "H3XT1fwOeSNP",
        "colab_type": "code",
        "outputId": "0055ee8e-b631-42c8-87d9-1e8e6e21edf5",
        "colab": {
          "base_uri": "https://localhost:8080/",
          "height": 369
        }
      },
      "source": [
        "from sklearn.mixture import GaussianMixture\n",
        "\n",
        "gmm = GaussianMixture(n_components=2, max_iter=10000)\n",
        "gmm.fit(xtr)\n",
        "\n",
        "y_pred = gmm.predict(xte)\n",
        "m = yte.shape[0]\n",
        "n = (yte != y_pred).sum()\n",
        "print(\"Accuracy = \" + format((m-n)/m*100, '.2f') + \"%\")\n",
        "\n",
        "# Draw the confusion matrix\n",
        "plot_cmat(yte, y_pred)"
      ],
      "execution_count": 0,
      "outputs": [
        {
          "output_type": "stream",
          "text": [
            "Accuracy = 65.37%\n"
          ],
          "name": "stdout"
        },
        {
          "output_type": "stream",
          "text": [
            "/usr/local/lib/python3.6/dist-packages/sklearn/utils/deprecation.py:87: FutureWarning: Function plot_confusion_matrix is deprecated; This will be removed in v0.4.0. Please use scikitplot.metrics.plot_confusion_matrix instead.\n",
            "  warnings.warn(msg, category=FutureWarning)\n"
          ],
          "name": "stderr"
        },
        {
          "output_type": "display_data",
          "data": {
            "image/png": "[encoded data removed]",
            "text/plain": [
              "<Figure size 432x288 with 2 Axes>"
            ]
          },
          "metadata": {
            "tags": [],
            "needs_background": "light"
          }
        }
      ]
    },
    {
      "cell_type": "code",
      "metadata": {
        "id": "4nhGl1oYm7af",
        "colab_type": "code",
        "outputId": "d31c6358-e42e-4a9e-b169-2ba8dc554746",
        "colab": {
          "base_uri": "https://localhost:8080/",
          "height": 72
        }
      },
      "source": [
        "!pip install xgboost"
      ],
      "execution_count": 0,
      "outputs": [
        {
          "output_type": "stream",
          "text": [
            "Requirement already satisfied: xgboost in /usr/local/lib/python3.6/dist-packages (0.90)\n",
            "Requirement already satisfied: scipy in /usr/local/lib/python3.6/dist-packages (from xgboost) (1.4.1)\n",
            "Requirement already satisfied: numpy in /usr/local/lib/python3.6/dist-packages (from xgboost) (1.18.2)\n"
          ],
          "name": "stdout"
        }
      ]
    },
    {
      "cell_type": "code",
      "metadata": {
        "id": "tHJXpERJi7tw",
        "colab_type": "code",
        "outputId": "f6c56c44-498b-49ef-cd04-a36c15d8b9a1",
        "colab": {
          "base_uri": "https://localhost:8080/",
          "height": 369
        }
      },
      "source": [
        "from xgboost import XGBClassifier\n",
        "\n",
        "xgb = XGBClassifier()\n",
        "xgb.fit(xtr, ytr)\n",
        "\n",
        "y_pred = xgb.predict(xte)\n",
        "m = yte.shape[0]\n",
        "n = (yte != y_pred).sum()\n",
        "print(\"Accuracy = \" + format((m-n)/m*100, '.2f') + \"%\")\n",
        "\n",
        "# Draw the confusion matrix\n",
        "plot_cmat(yte, y_pred)"
      ],
      "execution_count": 0,
      "outputs": [
        {
          "output_type": "stream",
          "text": [
            "Accuracy = 91.16%\n"
          ],
          "name": "stdout"
        },
        {
          "output_type": "stream",
          "text": [
            "/usr/local/lib/python3.6/dist-packages/sklearn/utils/deprecation.py:87: FutureWarning: Function plot_confusion_matrix is deprecated; This will be removed in v0.4.0. Please use scikitplot.metrics.plot_confusion_matrix instead.\n",
            "  warnings.warn(msg, category=FutureWarning)\n"
          ],
          "name": "stderr"
        },
        {
          "output_type": "display_data",
          "data": {
            "image/png": "[encoded data removed]",
            "text/plain": [
              "<Figure size 432x288 with 2 Axes>"
            ]
          },
          "metadata": {
            "tags": [],
            "needs_background": "light"
          }
        }
      ]
    }
  ]
}